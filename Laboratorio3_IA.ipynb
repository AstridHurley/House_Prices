{
  "nbformat": 4,
  "nbformat_minor": 0,
  "metadata": {
    "colab": {
      "name": "Laboratorio3_IA.ipynb",
      "provenance": [],
      "authorship_tag": "ABX9TyOf3nQkEGyjptg2rb5tIggk",
      "include_colab_link": true
    },
    "kernelspec": {
      "name": "python3",
      "display_name": "Python 3"
    }
  },
  "cells": [
    {
      "cell_type": "markdown",
      "metadata": {
        "id": "view-in-github",
        "colab_type": "text"
      },
      "source": [
        "<a href=\"https://colab.research.google.com/github/ryu-ed/House_Prices/blob/main/Laboratorio3_IA.ipynb\" target=\"_parent\"><img src=\"https://colab.research.google.com/assets/colab-badge.svg\" alt=\"Open In Colab\"/></a>"
      ]
    },
    {
      "cell_type": "markdown",
      "metadata": {
        "id": "OwgDKn0VKFbi"
      },
      "source": [
        "**Data Science Regression Project: Predict Home Prices in Panamá**"
      ]
    },
    {
      "cell_type": "code",
      "metadata": {
        "id": "Wj-NQz4ujqx1"
      },
      "source": [
        "import pandas as pd\n",
        "import numpy as np\n",
        "import matplotlib.pyplot as plt\n",
        "%matplotlib inline\n",
        "import seaborn as sns\n",
        "import math\n",
        "import matplotlib \n",
        "matplotlib.rcParams[\"figure.figsize\"] = (20,10)\n"
      ],
      "execution_count": 65,
      "outputs": []
    },
    {
      "cell_type": "code",
      "metadata": {
        "colab": {
          "base_uri": "https://localhost:8080/"
        },
        "id": "ISIwAZHESoax",
        "outputId": "3b9890c2-5298-4baa-f445-e6631260f832"
      },
      "source": [
        "! wget https://raw.githubusercontent.com/ryu-ed/House_Prices/main/dataset_house2.csv"
      ],
      "execution_count": 66,
      "outputs": [
        {
          "output_type": "stream",
          "text": [
            "--2020-12-19 01:03:49--  https://raw.githubusercontent.com/ryu-ed/House_Prices/main/dataset_house2.csv\n",
            "Resolving raw.githubusercontent.com (raw.githubusercontent.com)... 151.101.0.133, 151.101.64.133, 151.101.128.133, ...\n",
            "Connecting to raw.githubusercontent.com (raw.githubusercontent.com)|151.101.0.133|:443... connected.\n",
            "HTTP request sent, awaiting response... 200 OK\n",
            "Length: 23226 (23K) [text/plain]\n",
            "Saving to: ‘dataset_house2.csv’\n",
            "\n",
            "\rdataset_house2.csv    0%[                    ]       0  --.-KB/s               \rdataset_house2.csv  100%[===================>]  22.68K  --.-KB/s    in 0.001s  \n",
            "\n",
            "2020-12-19 01:03:49 (15.7 MB/s) - ‘dataset_house2.csv’ saved [23226/23226]\n",
            "\n"
          ],
          "name": "stdout"
        }
      ]
    },
    {
      "cell_type": "markdown",
      "metadata": {
        "id": "qv8QXwJtJ7wi"
      },
      "source": [
        "**Data Load: Load Panamá home prices into a dataframe**"
      ]
    },
    {
      "cell_type": "code",
      "metadata": {
        "id": "e1r7E0f-WmPU",
        "colab": {
          "base_uri": "https://localhost:8080/",
          "height": 206
        },
        "outputId": "78e94f7a-0df8-4bf5-a61f-260fb5df2fb9"
      },
      "source": [
        "data = pd.read_csv('dataset_house2.csv')\r\n",
        "data.head()"
      ],
      "execution_count": 67,
      "outputs": [
        {
          "output_type": "execute_result",
          "data": {
            "text/html": [
              "<div>\n",
              "<style scoped>\n",
              "    .dataframe tbody tr th:only-of-type {\n",
              "        vertical-align: middle;\n",
              "    }\n",
              "\n",
              "    .dataframe tbody tr th {\n",
              "        vertical-align: top;\n",
              "    }\n",
              "\n",
              "    .dataframe thead th {\n",
              "        text-align: right;\n",
              "    }\n",
              "</style>\n",
              "<table border=\"1\" class=\"dataframe\">\n",
              "  <thead>\n",
              "    <tr style=\"text-align: right;\">\n",
              "      <th></th>\n",
              "      <th>area_type</th>\n",
              "      <th>availability</th>\n",
              "      <th>location</th>\n",
              "      <th>size</th>\n",
              "      <th>society</th>\n",
              "      <th>total_sqft</th>\n",
              "      <th>bath</th>\n",
              "      <th>room</th>\n",
              "      <th>price</th>\n",
              "    </tr>\n",
              "  </thead>\n",
              "  <tbody>\n",
              "    <tr>\n",
              "      <th>0</th>\n",
              "      <td>Super built-up Area</td>\n",
              "      <td>Sale</td>\n",
              "      <td>Calidonia</td>\n",
              "      <td>2 BHK</td>\n",
              "      <td>WHITE</td>\n",
              "      <td>1281</td>\n",
              "      <td>2</td>\n",
              "      <td>2</td>\n",
              "      <td>250000</td>\n",
              "    </tr>\n",
              "    <tr>\n",
              "      <th>1</th>\n",
              "      <td>Built-up Area</td>\n",
              "      <td>Sale</td>\n",
              "      <td>Calidonia</td>\n",
              "      <td>4 Bedroom</td>\n",
              "      <td>H2O</td>\n",
              "      <td>4359</td>\n",
              "      <td>3</td>\n",
              "      <td>3</td>\n",
              "      <td>589000</td>\n",
              "    </tr>\n",
              "    <tr>\n",
              "      <th>2</th>\n",
              "      <td>Plot Area</td>\n",
              "      <td>Sale</td>\n",
              "      <td>Calidonia</td>\n",
              "      <td>3 BHK</td>\n",
              "      <td>WHITE</td>\n",
              "      <td>1819</td>\n",
              "      <td>3</td>\n",
              "      <td>3</td>\n",
              "      <td>338000</td>\n",
              "    </tr>\n",
              "    <tr>\n",
              "      <th>3</th>\n",
              "      <td>Super built-up Area</td>\n",
              "      <td>Sale</td>\n",
              "      <td>Bella Vista</td>\n",
              "      <td>2 BHK</td>\n",
              "      <td>RIVAGE</td>\n",
              "      <td>1905</td>\n",
              "      <td>2</td>\n",
              "      <td>2</td>\n",
              "      <td>390000</td>\n",
              "    </tr>\n",
              "    <tr>\n",
              "      <th>4</th>\n",
              "      <td>Super built-up Area</td>\n",
              "      <td>Rental</td>\n",
              "      <td>Bella Vista</td>\n",
              "      <td>4 Bedroom</td>\n",
              "      <td>WATERS ON THE BAY</td>\n",
              "      <td>1313</td>\n",
              "      <td>2</td>\n",
              "      <td>2</td>\n",
              "      <td>370000</td>\n",
              "    </tr>\n",
              "  </tbody>\n",
              "</table>\n",
              "</div>"
            ],
            "text/plain": [
              "             area_type availability     location  ... bath room   price\n",
              "0  Super built-up Area         Sale    Calidonia  ...    2    2  250000\n",
              "1        Built-up Area         Sale    Calidonia  ...    3    3  589000\n",
              "2            Plot Area         Sale    Calidonia  ...    3    3  338000\n",
              "3  Super built-up Area         Sale  Bella Vista  ...    2    2  390000\n",
              "4  Super built-up Area       Rental  Bella Vista  ...    2    2  370000\n",
              "\n",
              "[5 rows x 9 columns]"
            ]
          },
          "metadata": {
            "tags": []
          },
          "execution_count": 67
        }
      ]
    },
    {
      "cell_type": "code",
      "metadata": {
        "colab": {
          "base_uri": "https://localhost:8080/"
        },
        "id": "Xy8AXlYNJ5pb",
        "outputId": "ba5e41d5-c962-40f2-8517-83ce949f9d07"
      },
      "source": [
        "data.shape"
      ],
      "execution_count": 68,
      "outputs": [
        {
          "output_type": "execute_result",
          "data": {
            "text/plain": [
              "(290, 9)"
            ]
          },
          "metadata": {
            "tags": []
          },
          "execution_count": 68
        }
      ]
    },
    {
      "cell_type": "code",
      "metadata": {
        "colab": {
          "base_uri": "https://localhost:8080/"
        },
        "id": "8UIPIcD3Kqcj",
        "outputId": "ecfd33d9-c68c-4dde-de12-12d3150353ef"
      },
      "source": [
        "data.columns"
      ],
      "execution_count": 69,
      "outputs": [
        {
          "output_type": "execute_result",
          "data": {
            "text/plain": [
              "Index(['area_type', 'availability', 'location', 'size', 'society',\n",
              "       'total_sqft', 'bath', 'room', 'price'],\n",
              "      dtype='object')"
            ]
          },
          "metadata": {
            "tags": []
          },
          "execution_count": 69
        }
      ]
    },
    {
      "cell_type": "code",
      "metadata": {
        "colab": {
          "base_uri": "https://localhost:8080/"
        },
        "id": "RuoeDTfdKuN7",
        "outputId": "3fa615c0-b1fc-4c69-c18f-0a848bafd168"
      },
      "source": [
        "data['area_type'].unique()"
      ],
      "execution_count": 70,
      "outputs": [
        {
          "output_type": "execute_result",
          "data": {
            "text/plain": [
              "array(['Super built-up Area', 'Built-up Area', 'Plot Area'], dtype=object)"
            ]
          },
          "metadata": {
            "tags": []
          },
          "execution_count": 70
        }
      ]
    },
    {
      "cell_type": "code",
      "metadata": {
        "colab": {
          "base_uri": "https://localhost:8080/"
        },
        "id": "XWo8R_pOK2mi",
        "outputId": "b6d8d9ff-131a-4efc-ab53-dada3fe4e1b9"
      },
      "source": [
        "data['area_type'].value_counts()"
      ],
      "execution_count": 71,
      "outputs": [
        {
          "output_type": "execute_result",
          "data": {
            "text/plain": [
              "Plot Area              104\n",
              "Super built-up Area     96\n",
              "Built-up Area           90\n",
              "Name: area_type, dtype: int64"
            ]
          },
          "metadata": {
            "tags": []
          },
          "execution_count": 71
        }
      ]
    },
    {
      "cell_type": "code",
      "metadata": {
        "colab": {
          "base_uri": "https://localhost:8080/"
        },
        "id": "qaUvmwPVLAKU",
        "outputId": "bad0a1c2-d261-4a80-d4f5-2fec4f8ff470"
      },
      "source": [
        "data2 = data.drop(['area_type','society','room','availability'],axis='columns')\r\n",
        "data2.shape"
      ],
      "execution_count": 72,
      "outputs": [
        {
          "output_type": "execute_result",
          "data": {
            "text/plain": [
              "(290, 5)"
            ]
          },
          "metadata": {
            "tags": []
          },
          "execution_count": 72
        }
      ]
    },
    {
      "cell_type": "markdown",
      "metadata": {
        "id": "deFxwkw1Mcre"
      },
      "source": [
        "**Data Cleaning: Handle NA values**\r\n"
      ]
    },
    {
      "cell_type": "code",
      "metadata": {
        "colab": {
          "base_uri": "https://localhost:8080/"
        },
        "id": "KH5U3PtgMka1",
        "outputId": "694b9fc0-06a9-49fb-ebff-d5ad48b00b3f"
      },
      "source": [
        "data2.isnull().sum()"
      ],
      "execution_count": 73,
      "outputs": [
        {
          "output_type": "execute_result",
          "data": {
            "text/plain": [
              "location      0\n",
              "size          0\n",
              "total_sqft    0\n",
              "bath          0\n",
              "price         0\n",
              "dtype: int64"
            ]
          },
          "metadata": {
            "tags": []
          },
          "execution_count": 73
        }
      ]
    },
    {
      "cell_type": "code",
      "metadata": {
        "colab": {
          "base_uri": "https://localhost:8080/"
        },
        "id": "uhkAnvMKMrKd",
        "outputId": "62d709d5-5fd4-452d-fec4-8c139156c57f"
      },
      "source": [
        "data2.shape"
      ],
      "execution_count": 74,
      "outputs": [
        {
          "output_type": "execute_result",
          "data": {
            "text/plain": [
              "(290, 5)"
            ]
          },
          "metadata": {
            "tags": []
          },
          "execution_count": 74
        }
      ]
    },
    {
      "cell_type": "code",
      "metadata": {
        "colab": {
          "base_uri": "https://localhost:8080/"
        },
        "id": "PzUH4fE5M5w-",
        "outputId": "77985aad-a1a7-4309-baf0-2b9a0e58e2fc"
      },
      "source": [
        "data3 = data2.dropna()\r\n",
        "data3.isnull().sum()"
      ],
      "execution_count": 75,
      "outputs": [
        {
          "output_type": "execute_result",
          "data": {
            "text/plain": [
              "location      0\n",
              "size          0\n",
              "total_sqft    0\n",
              "bath          0\n",
              "price         0\n",
              "dtype: int64"
            ]
          },
          "metadata": {
            "tags": []
          },
          "execution_count": 75
        }
      ]
    },
    {
      "cell_type": "code",
      "metadata": {
        "colab": {
          "base_uri": "https://localhost:8080/"
        },
        "id": "KMzyyT85M_l1",
        "outputId": "361f03a5-8614-40c9-a829-9a056b532322"
      },
      "source": [
        "data3.shape"
      ],
      "execution_count": 76,
      "outputs": [
        {
          "output_type": "execute_result",
          "data": {
            "text/plain": [
              "(290, 5)"
            ]
          },
          "metadata": {
            "tags": []
          },
          "execution_count": 76
        }
      ]
    },
    {
      "cell_type": "markdown",
      "metadata": {
        "id": "J0NOWCb8NGgv"
      },
      "source": [
        "**Feature Engineering**\r\n",
        "\r\n",
        "Add new feature(integer) for bhk (Bedrooms Hall Kitchen)\r\n",
        "\r\n",
        "\r\n",
        "\r\n"
      ]
    },
    {
      "cell_type": "code",
      "metadata": {
        "colab": {
          "base_uri": "https://localhost:8080/"
        },
        "id": "bJWAt1KANCYU",
        "outputId": "80fef374-22e9-40b4-b0a4-80db64ae8739"
      },
      "source": [
        "data3['bhk'] = data3['size'].apply(lambda x: int(x.split(' ')[0]))\r\n",
        "data3.bhk.unique()"
      ],
      "execution_count": 77,
      "outputs": [
        {
          "output_type": "execute_result",
          "data": {
            "text/plain": [
              "array([2, 4, 3])"
            ]
          },
          "metadata": {
            "tags": []
          },
          "execution_count": 77
        }
      ]
    },
    {
      "cell_type": "markdown",
      "metadata": {
        "id": "lk-AIkrIN2nl"
      },
      "source": [
        "Explore total square feet feature"
      ]
    },
    {
      "cell_type": "code",
      "metadata": {
        "id": "FZi0SBRvN1II"
      },
      "source": [
        "def is_integer(x):\r\n",
        "  try:\r\n",
        "    integer(x)\r\n",
        "  except:\r\n",
        "    return False\r\n",
        "  return True"
      ],
      "execution_count": 78,
      "outputs": []
    },
    {
      "cell_type": "code",
      "metadata": {
        "colab": {
          "base_uri": "https://localhost:8080/",
          "height": 363
        },
        "id": "1hDkrr2UORTT",
        "outputId": "b757d7de-2b98-41a9-e372-47bca4f15d45"
      },
      "source": [
        "data3[~data3['total_sqft'].apply(is_integer)].head(10)"
      ],
      "execution_count": 79,
      "outputs": [
        {
          "output_type": "execute_result",
          "data": {
            "text/html": [
              "<div>\n",
              "<style scoped>\n",
              "    .dataframe tbody tr th:only-of-type {\n",
              "        vertical-align: middle;\n",
              "    }\n",
              "\n",
              "    .dataframe tbody tr th {\n",
              "        vertical-align: top;\n",
              "    }\n",
              "\n",
              "    .dataframe thead th {\n",
              "        text-align: right;\n",
              "    }\n",
              "</style>\n",
              "<table border=\"1\" class=\"dataframe\">\n",
              "  <thead>\n",
              "    <tr style=\"text-align: right;\">\n",
              "      <th></th>\n",
              "      <th>location</th>\n",
              "      <th>size</th>\n",
              "      <th>total_sqft</th>\n",
              "      <th>bath</th>\n",
              "      <th>price</th>\n",
              "      <th>bhk</th>\n",
              "    </tr>\n",
              "  </thead>\n",
              "  <tbody>\n",
              "    <tr>\n",
              "      <th>0</th>\n",
              "      <td>Calidonia</td>\n",
              "      <td>2 BHK</td>\n",
              "      <td>1281</td>\n",
              "      <td>2</td>\n",
              "      <td>250000</td>\n",
              "      <td>2</td>\n",
              "    </tr>\n",
              "    <tr>\n",
              "      <th>1</th>\n",
              "      <td>Calidonia</td>\n",
              "      <td>4 Bedroom</td>\n",
              "      <td>4359</td>\n",
              "      <td>3</td>\n",
              "      <td>589000</td>\n",
              "      <td>4</td>\n",
              "    </tr>\n",
              "    <tr>\n",
              "      <th>2</th>\n",
              "      <td>Calidonia</td>\n",
              "      <td>3 BHK</td>\n",
              "      <td>1819</td>\n",
              "      <td>3</td>\n",
              "      <td>338000</td>\n",
              "      <td>3</td>\n",
              "    </tr>\n",
              "    <tr>\n",
              "      <th>3</th>\n",
              "      <td>Bella Vista</td>\n",
              "      <td>2 BHK</td>\n",
              "      <td>1905</td>\n",
              "      <td>2</td>\n",
              "      <td>390000</td>\n",
              "      <td>2</td>\n",
              "    </tr>\n",
              "    <tr>\n",
              "      <th>4</th>\n",
              "      <td>Bella Vista</td>\n",
              "      <td>4 Bedroom</td>\n",
              "      <td>1313</td>\n",
              "      <td>2</td>\n",
              "      <td>370000</td>\n",
              "      <td>4</td>\n",
              "    </tr>\n",
              "    <tr>\n",
              "      <th>5</th>\n",
              "      <td>Calidonia</td>\n",
              "      <td>3 BHK</td>\n",
              "      <td>1076</td>\n",
              "      <td>1</td>\n",
              "      <td>215000</td>\n",
              "      <td>3</td>\n",
              "    </tr>\n",
              "    <tr>\n",
              "      <th>6</th>\n",
              "      <td>Calidonia</td>\n",
              "      <td>2 BHK</td>\n",
              "      <td>2088</td>\n",
              "      <td>3</td>\n",
              "      <td>360000</td>\n",
              "      <td>2</td>\n",
              "    </tr>\n",
              "    <tr>\n",
              "      <th>7</th>\n",
              "      <td>Bella Vista</td>\n",
              "      <td>4 Bedroom</td>\n",
              "      <td>1819</td>\n",
              "      <td>2</td>\n",
              "      <td>550000</td>\n",
              "      <td>4</td>\n",
              "    </tr>\n",
              "    <tr>\n",
              "      <th>8</th>\n",
              "      <td>Bella Vista</td>\n",
              "      <td>3 BHK</td>\n",
              "      <td>8073</td>\n",
              "      <td>3</td>\n",
              "      <td>1500000</td>\n",
              "      <td>3</td>\n",
              "    </tr>\n",
              "    <tr>\n",
              "      <th>9</th>\n",
              "      <td>Calidonia</td>\n",
              "      <td>2 BHK</td>\n",
              "      <td>6458</td>\n",
              "      <td>4</td>\n",
              "      <td>1500000</td>\n",
              "      <td>2</td>\n",
              "    </tr>\n",
              "  </tbody>\n",
              "</table>\n",
              "</div>"
            ],
            "text/plain": [
              "      location       size total_sqft  bath    price  bhk\n",
              "0    Calidonia      2 BHK       1281     2   250000    2\n",
              "1    Calidonia  4 Bedroom       4359     3   589000    4\n",
              "2    Calidonia      3 BHK       1819     3   338000    3\n",
              "3  Bella Vista      2 BHK       1905     2   390000    2\n",
              "4  Bella Vista  4 Bedroom       1313     2   370000    4\n",
              "5    Calidonia      3 BHK       1076     1   215000    3\n",
              "6    Calidonia      2 BHK       2088     3   360000    2\n",
              "7  Bella Vista  4 Bedroom       1819     2   550000    4\n",
              "8  Bella Vista      3 BHK       8073     3  1500000    3\n",
              "9    Calidonia      2 BHK       6458     4  1500000    2"
            ]
          },
          "metadata": {
            "tags": []
          },
          "execution_count": 79
        }
      ]
    },
    {
      "cell_type": "markdown",
      "metadata": {
        "id": "yvZfeNSpTYDg"
      },
      "source": [
        "In case the square footage is in different ranges within a field, separated by a dash. We use this code to add them and arrive at an average."
      ]
    },
    {
      "cell_type": "code",
      "metadata": {
        "id": "W2H-lD6mSZE2"
      },
      "source": [
        "def convert_sqft_to_num(x):\r\n",
        "    tokens = x.split('-')\r\n",
        "    if len(tokens) == 2:\r\n",
        "        return (float(tokens[0])+float(tokens[1]))/2\r\n",
        "    try:\r\n",
        "        return float(x)\r\n",
        "    except:\r\n",
        "        return None  "
      ],
      "execution_count": 80,
      "outputs": []
    },
    {
      "cell_type": "code",
      "metadata": {
        "colab": {
          "base_uri": "https://localhost:8080/",
          "height": 206
        },
        "id": "2xGaH9zOSouS",
        "outputId": "d2073fca-fb0a-4824-da8e-21ce23d43a04"
      },
      "source": [
        "data4 = data3.copy()\r\n",
        "data4.total_sqft = data4.total_sqft.apply(convert_sqft_to_num)\r\n",
        "data4 = data4[data4.total_sqft.notnull()]\r\n",
        "data4.head()"
      ],
      "execution_count": 81,
      "outputs": [
        {
          "output_type": "execute_result",
          "data": {
            "text/html": [
              "<div>\n",
              "<style scoped>\n",
              "    .dataframe tbody tr th:only-of-type {\n",
              "        vertical-align: middle;\n",
              "    }\n",
              "\n",
              "    .dataframe tbody tr th {\n",
              "        vertical-align: top;\n",
              "    }\n",
              "\n",
              "    .dataframe thead th {\n",
              "        text-align: right;\n",
              "    }\n",
              "</style>\n",
              "<table border=\"1\" class=\"dataframe\">\n",
              "  <thead>\n",
              "    <tr style=\"text-align: right;\">\n",
              "      <th></th>\n",
              "      <th>location</th>\n",
              "      <th>size</th>\n",
              "      <th>total_sqft</th>\n",
              "      <th>bath</th>\n",
              "      <th>price</th>\n",
              "      <th>bhk</th>\n",
              "    </tr>\n",
              "  </thead>\n",
              "  <tbody>\n",
              "    <tr>\n",
              "      <th>0</th>\n",
              "      <td>Calidonia</td>\n",
              "      <td>2 BHK</td>\n",
              "      <td>1281.0</td>\n",
              "      <td>2</td>\n",
              "      <td>250000</td>\n",
              "      <td>2</td>\n",
              "    </tr>\n",
              "    <tr>\n",
              "      <th>1</th>\n",
              "      <td>Calidonia</td>\n",
              "      <td>4 Bedroom</td>\n",
              "      <td>4359.0</td>\n",
              "      <td>3</td>\n",
              "      <td>589000</td>\n",
              "      <td>4</td>\n",
              "    </tr>\n",
              "    <tr>\n",
              "      <th>2</th>\n",
              "      <td>Calidonia</td>\n",
              "      <td>3 BHK</td>\n",
              "      <td>1819.0</td>\n",
              "      <td>3</td>\n",
              "      <td>338000</td>\n",
              "      <td>3</td>\n",
              "    </tr>\n",
              "    <tr>\n",
              "      <th>3</th>\n",
              "      <td>Bella Vista</td>\n",
              "      <td>2 BHK</td>\n",
              "      <td>1905.0</td>\n",
              "      <td>2</td>\n",
              "      <td>390000</td>\n",
              "      <td>2</td>\n",
              "    </tr>\n",
              "    <tr>\n",
              "      <th>4</th>\n",
              "      <td>Bella Vista</td>\n",
              "      <td>4 Bedroom</td>\n",
              "      <td>1313.0</td>\n",
              "      <td>2</td>\n",
              "      <td>370000</td>\n",
              "      <td>4</td>\n",
              "    </tr>\n",
              "  </tbody>\n",
              "</table>\n",
              "</div>"
            ],
            "text/plain": [
              "      location       size  total_sqft  bath   price  bhk\n",
              "0    Calidonia      2 BHK      1281.0     2  250000    2\n",
              "1    Calidonia  4 Bedroom      4359.0     3  589000    4\n",
              "2    Calidonia      3 BHK      1819.0     3  338000    3\n",
              "3  Bella Vista      2 BHK      1905.0     2  390000    2\n",
              "4  Bella Vista  4 Bedroom      1313.0     2  370000    4"
            ]
          },
          "metadata": {
            "tags": []
          },
          "execution_count": 81
        }
      ]
    },
    {
      "cell_type": "markdown",
      "metadata": {
        "id": "u22aHhNsTy4_"
      },
      "source": [
        "For example, it returns total_sqft as 1129.5 which is an average of the range 1022 - 1237. \r\n",
        "They are added and an average is taken. Obtaining an approximate value of the size of the house."
      ]
    },
    {
      "cell_type": "code",
      "metadata": {
        "colab": {
          "base_uri": "https://localhost:8080/"
        },
        "id": "8pz3eTAsVf2V",
        "outputId": "91644279-1f9c-4c8f-8a16-c76eb102781c"
      },
      "source": [
        "data3.loc[27]"
      ],
      "execution_count": 82,
      "outputs": [
        {
          "output_type": "execute_result",
          "data": {
            "text/plain": [
              "location      Punta Pacifica, San francisco\n",
              "size                                  2 BHK\n",
              "total_sqft                      1022 - 1237\n",
              "bath                                      1\n",
              "price                                218000\n",
              "bhk                                       2\n",
              "Name: 27, dtype: object"
            ]
          },
          "metadata": {
            "tags": []
          },
          "execution_count": 82
        }
      ]
    },
    {
      "cell_type": "code",
      "metadata": {
        "colab": {
          "base_uri": "https://localhost:8080/"
        },
        "id": "5zQeiwHQTaJv",
        "outputId": "766c4dc5-20e4-4b77-dae5-6556fca54dc3"
      },
      "source": [
        "data4.loc[27]"
      ],
      "execution_count": 83,
      "outputs": [
        {
          "output_type": "execute_result",
          "data": {
            "text/plain": [
              "location      Punta Pacifica, San francisco\n",
              "size                                  2 BHK\n",
              "total_sqft                           1129.5\n",
              "bath                                      1\n",
              "price                                218000\n",
              "bhk                                       2\n",
              "Name: 27, dtype: object"
            ]
          },
          "metadata": {
            "tags": []
          },
          "execution_count": 83
        }
      ]
    },
    {
      "cell_type": "code",
      "metadata": {
        "colab": {
          "base_uri": "https://localhost:8080/"
        },
        "id": "qwSflEm3a2aj",
        "outputId": "2035b707-f7f2-4ef6-fa65-21ecf9cfffd7"
      },
      "source": [
        "(1022+1237)/2"
      ],
      "execution_count": 88,
      "outputs": [
        {
          "output_type": "execute_result",
          "data": {
            "text/plain": [
              "1129.5"
            ]
          },
          "metadata": {
            "tags": []
          },
          "execution_count": 88
        }
      ]
    },
    {
      "cell_type": "markdown",
      "metadata": {
        "id": "CTzHutKRVj24"
      },
      "source": [
        "As we can see from data 27, it had a range in its square feet and what we did was take an average. To have cleaner data.\r\n",
        "It is not an exact figure, but it is the closest."
      ]
    },
    {
      "cell_type": "markdown",
      "metadata": {
        "id": "SiWRC8JNbIZj"
      },
      "source": [
        "**Feature Engineering**\r\n",
        "\r\n",
        "Add new feature called price per square feet"
      ]
    },
    {
      "cell_type": "code",
      "metadata": {
        "colab": {
          "base_uri": "https://localhost:8080/",
          "height": 206
        },
        "id": "kcBJnJ63V5mM",
        "outputId": "6ab85780-eca3-4674-82b4-37d64659d07e"
      },
      "source": [
        "data5 = data4.copy()\r\n",
        "data5['price_per_sqft'] = data5['price']*89.74/data5['total_sqft']\r\n",
        "data5.head()"
      ],
      "execution_count": 87,
      "outputs": [
        {
          "output_type": "execute_result",
          "data": {
            "text/html": [
              "<div>\n",
              "<style scoped>\n",
              "    .dataframe tbody tr th:only-of-type {\n",
              "        vertical-align: middle;\n",
              "    }\n",
              "\n",
              "    .dataframe tbody tr th {\n",
              "        vertical-align: top;\n",
              "    }\n",
              "\n",
              "    .dataframe thead th {\n",
              "        text-align: right;\n",
              "    }\n",
              "</style>\n",
              "<table border=\"1\" class=\"dataframe\">\n",
              "  <thead>\n",
              "    <tr style=\"text-align: right;\">\n",
              "      <th></th>\n",
              "      <th>location</th>\n",
              "      <th>size</th>\n",
              "      <th>total_sqft</th>\n",
              "      <th>bath</th>\n",
              "      <th>price</th>\n",
              "      <th>bhk</th>\n",
              "      <th>price_per_sqft</th>\n",
              "    </tr>\n",
              "  </thead>\n",
              "  <tbody>\n",
              "    <tr>\n",
              "      <th>0</th>\n",
              "      <td>Calidonia</td>\n",
              "      <td>2 BHK</td>\n",
              "      <td>1281.0</td>\n",
              "      <td>2</td>\n",
              "      <td>250000</td>\n",
              "      <td>2</td>\n",
              "      <td>17513.661202</td>\n",
              "    </tr>\n",
              "    <tr>\n",
              "      <th>1</th>\n",
              "      <td>Calidonia</td>\n",
              "      <td>4 Bedroom</td>\n",
              "      <td>4359.0</td>\n",
              "      <td>3</td>\n",
              "      <td>589000</td>\n",
              "      <td>4</td>\n",
              "      <td>12125.914201</td>\n",
              "    </tr>\n",
              "    <tr>\n",
              "      <th>2</th>\n",
              "      <td>Calidonia</td>\n",
              "      <td>3 BHK</td>\n",
              "      <td>1819.0</td>\n",
              "      <td>3</td>\n",
              "      <td>338000</td>\n",
              "      <td>3</td>\n",
              "      <td>16675.162177</td>\n",
              "    </tr>\n",
              "    <tr>\n",
              "      <th>3</th>\n",
              "      <td>Bella Vista</td>\n",
              "      <td>2 BHK</td>\n",
              "      <td>1905.0</td>\n",
              "      <td>2</td>\n",
              "      <td>390000</td>\n",
              "      <td>2</td>\n",
              "      <td>18371.968504</td>\n",
              "    </tr>\n",
              "    <tr>\n",
              "      <th>4</th>\n",
              "      <td>Bella Vista</td>\n",
              "      <td>4 Bedroom</td>\n",
              "      <td>1313.0</td>\n",
              "      <td>2</td>\n",
              "      <td>370000</td>\n",
              "      <td>4</td>\n",
              "      <td>25288.499619</td>\n",
              "    </tr>\n",
              "  </tbody>\n",
              "</table>\n",
              "</div>"
            ],
            "text/plain": [
              "      location       size  total_sqft  bath   price  bhk  price_per_sqft\n",
              "0    Calidonia      2 BHK      1281.0     2  250000    2    17513.661202\n",
              "1    Calidonia  4 Bedroom      4359.0     3  589000    4    12125.914201\n",
              "2    Calidonia      3 BHK      1819.0     3  338000    3    16675.162177\n",
              "3  Bella Vista      2 BHK      1905.0     2  390000    2    18371.968504\n",
              "4  Bella Vista  4 Bedroom      1313.0     2  370000    4    25288.499619"
            ]
          },
          "metadata": {
            "tags": []
          },
          "execution_count": 87
        }
      ]
    },
    {
      "cell_type": "code",
      "metadata": {
        "colab": {
          "base_uri": "https://localhost:8080/"
        },
        "id": "u_E5D98XirKp",
        "outputId": "50b11d09-91d4-41c9-d7f3-16bd46150938"
      },
      "source": [
        "data5_stats = data5['price_per_sqft'].describe()\r\n",
        "data5_stats"
      ],
      "execution_count": 90,
      "outputs": [
        {
          "output_type": "execute_result",
          "data": {
            "text/plain": [
              "count      290.000000\n",
              "mean     19496.540014\n",
              "std       5872.086004\n",
              "min       8337.790345\n",
              "25%      15629.071353\n",
              "50%      18547.943632\n",
              "75%      22609.363263\n",
              "max      59231.047198\n",
              "Name: price_per_sqft, dtype: float64"
            ]
          },
          "metadata": {
            "tags": []
          },
          "execution_count": 90
        }
      ]
    },
    {
      "cell_type": "markdown",
      "metadata": {
        "id": "pqYXAa2Mku53"
      },
      "source": [
        "\r\n",
        "\r\n",
        "Examine locations which is a categorical variable. We need to apply dimensionality reduction technique here to reduce number of locations.\r\n"
      ]
    },
    {
      "cell_type": "code",
      "metadata": {
        "colab": {
          "base_uri": "https://localhost:8080/"
        },
        "id": "nUvGW8Y_koSt",
        "outputId": "3871b3df-9bdc-4a52-9ade-112f2a4f64a0"
      },
      "source": [
        "data5.location = data5.location.apply(lambda x: x.strip())\r\n",
        "location_stats = data5['location'].value_counts(ascending=False)\r\n",
        "location_stats"
      ],
      "execution_count": 92,
      "outputs": [
        {
          "output_type": "execute_result",
          "data": {
            "text/plain": [
              "Bella Vista                      58\n",
              "Punta Pacifica, San francisco    57\n",
              "Costa del Este                   46\n",
              "Costa del Este,Juan Díaz         46\n",
              "Calidonia                        22\n",
              "San Francisco                    21\n",
              "SANTA MARIA,Juan Díaz            10\n",
              "MARBELLA,Bella Vista             10\n",
              "Obarrio, Bella Vista              9\n",
              "Ancón                             7\n",
              "Cinta Costera                     3\n",
              "Costa del Este,Parque Lefevre     1\n",
              "Name: location, dtype: int64"
            ]
          },
          "metadata": {
            "tags": []
          },
          "execution_count": 92
        }
      ]
    },
    {
      "cell_type": "code",
      "metadata": {
        "colab": {
          "base_uri": "https://localhost:8080/"
        },
        "id": "S6XgHhf5nyme",
        "outputId": "ae83bcc8-bdfd-4503-8446-1f0002940e59"
      },
      "source": [
        "location_stats.values.sum()"
      ],
      "execution_count": 93,
      "outputs": [
        {
          "output_type": "execute_result",
          "data": {
            "text/plain": [
              "290"
            ]
          },
          "metadata": {
            "tags": []
          },
          "execution_count": 93
        }
      ]
    },
    {
      "cell_type": "code",
      "metadata": {
        "colab": {
          "base_uri": "https://localhost:8080/"
        },
        "id": "QlLgwhJSoD4E",
        "outputId": "140aaad4-a7e0-4025-a01e-7ac986e059e7"
      },
      "source": [
        "len(location_stats[location_stats>10])"
      ],
      "execution_count": 94,
      "outputs": [
        {
          "output_type": "execute_result",
          "data": {
            "text/plain": [
              "6"
            ]
          },
          "metadata": {
            "tags": []
          },
          "execution_count": 94
        }
      ]
    },
    {
      "cell_type": "code",
      "metadata": {
        "colab": {
          "base_uri": "https://localhost:8080/"
        },
        "id": "GicUHt26oGeL",
        "outputId": "e8c89730-170b-4763-b86b-94feeab89ba8"
      },
      "source": [
        "len(location_stats)"
      ],
      "execution_count": 95,
      "outputs": [
        {
          "output_type": "execute_result",
          "data": {
            "text/plain": [
              "12"
            ]
          },
          "metadata": {
            "tags": []
          },
          "execution_count": 95
        }
      ]
    },
    {
      "cell_type": "code",
      "metadata": {
        "colab": {
          "base_uri": "https://localhost:8080/"
        },
        "id": "Wcgmeir1oIcY",
        "outputId": "083491d9-5cb2-46a0-f4c2-e68ac387a224"
      },
      "source": [
        "len(location_stats[location_stats<=10])"
      ],
      "execution_count": 96,
      "outputs": [
        {
          "output_type": "execute_result",
          "data": {
            "text/plain": [
              "6"
            ]
          },
          "metadata": {
            "tags": []
          },
          "execution_count": 96
        }
      ]
    },
    {
      "cell_type": "markdown",
      "metadata": {
        "id": "1003I6RIoR61"
      },
      "source": [
        "\r\n",
        "Dimensionality Reduction\r\n",
        "\r\n",
        "Any location having less than 10 data points should be tagged as \"other\" location. This way number of categories can be reduced by huge amount. Later on when we do one hot encoding, it will help us with having fewer dummy columns\r\n"
      ]
    },
    {
      "cell_type": "code",
      "metadata": {
        "colab": {
          "base_uri": "https://localhost:8080/"
        },
        "id": "_HqIT5tsoKh6",
        "outputId": "8c0960f8-9a58-4b43-f582-b2433b53c12e"
      },
      "source": [
        "location_stats_less_than_10 = location_stats[location_stats<=10]\r\n",
        "location_stats_less_than_10"
      ],
      "execution_count": 97,
      "outputs": [
        {
          "output_type": "execute_result",
          "data": {
            "text/plain": [
              "SANTA MARIA,Juan Díaz            10\n",
              "MARBELLA,Bella Vista             10\n",
              "Obarrio, Bella Vista              9\n",
              "Ancón                             7\n",
              "Cinta Costera                     3\n",
              "Costa del Este,Parque Lefevre     1\n",
              "Name: location, dtype: int64"
            ]
          },
          "metadata": {
            "tags": []
          },
          "execution_count": 97
        }
      ]
    },
    {
      "cell_type": "code",
      "metadata": {
        "colab": {
          "base_uri": "https://localhost:8080/"
        },
        "id": "PQm2AvcloXYL",
        "outputId": "1e783409-af33-44f4-948d-bdf7118e7d3b"
      },
      "source": [
        "len(data5.location.unique())"
      ],
      "execution_count": 98,
      "outputs": [
        {
          "output_type": "execute_result",
          "data": {
            "text/plain": [
              "12"
            ]
          },
          "metadata": {
            "tags": []
          },
          "execution_count": 98
        }
      ]
    },
    {
      "cell_type": "code",
      "metadata": {
        "colab": {
          "base_uri": "https://localhost:8080/"
        },
        "id": "xptd8k6Sobmj",
        "outputId": "cfbfab18-3dcf-4e29-cef6-50102a456ce2"
      },
      "source": [
        "data5.location = data5.location.apply(lambda x: 'other' if x in location_stats_less_than_10 else x)\r\n",
        "len(data5.location.unique())"
      ],
      "execution_count": 99,
      "outputs": [
        {
          "output_type": "execute_result",
          "data": {
            "text/plain": [
              "7"
            ]
          },
          "metadata": {
            "tags": []
          },
          "execution_count": 99
        }
      ]
    },
    {
      "cell_type": "code",
      "metadata": {
        "colab": {
          "base_uri": "https://localhost:8080/",
          "height": 363
        },
        "id": "EEsqKTGJomIb",
        "outputId": "097ef991-3487-4e05-a7c9-987da72315a4"
      },
      "source": [
        "data5.head(10)"
      ],
      "execution_count": 100,
      "outputs": [
        {
          "output_type": "execute_result",
          "data": {
            "text/html": [
              "<div>\n",
              "<style scoped>\n",
              "    .dataframe tbody tr th:only-of-type {\n",
              "        vertical-align: middle;\n",
              "    }\n",
              "\n",
              "    .dataframe tbody tr th {\n",
              "        vertical-align: top;\n",
              "    }\n",
              "\n",
              "    .dataframe thead th {\n",
              "        text-align: right;\n",
              "    }\n",
              "</style>\n",
              "<table border=\"1\" class=\"dataframe\">\n",
              "  <thead>\n",
              "    <tr style=\"text-align: right;\">\n",
              "      <th></th>\n",
              "      <th>location</th>\n",
              "      <th>size</th>\n",
              "      <th>total_sqft</th>\n",
              "      <th>bath</th>\n",
              "      <th>price</th>\n",
              "      <th>bhk</th>\n",
              "      <th>price_per_sqft</th>\n",
              "    </tr>\n",
              "  </thead>\n",
              "  <tbody>\n",
              "    <tr>\n",
              "      <th>0</th>\n",
              "      <td>Calidonia</td>\n",
              "      <td>2 BHK</td>\n",
              "      <td>1281.0</td>\n",
              "      <td>2</td>\n",
              "      <td>250000</td>\n",
              "      <td>2</td>\n",
              "      <td>17513.661202</td>\n",
              "    </tr>\n",
              "    <tr>\n",
              "      <th>1</th>\n",
              "      <td>Calidonia</td>\n",
              "      <td>4 Bedroom</td>\n",
              "      <td>4359.0</td>\n",
              "      <td>3</td>\n",
              "      <td>589000</td>\n",
              "      <td>4</td>\n",
              "      <td>12125.914201</td>\n",
              "    </tr>\n",
              "    <tr>\n",
              "      <th>2</th>\n",
              "      <td>Calidonia</td>\n",
              "      <td>3 BHK</td>\n",
              "      <td>1819.0</td>\n",
              "      <td>3</td>\n",
              "      <td>338000</td>\n",
              "      <td>3</td>\n",
              "      <td>16675.162177</td>\n",
              "    </tr>\n",
              "    <tr>\n",
              "      <th>3</th>\n",
              "      <td>Bella Vista</td>\n",
              "      <td>2 BHK</td>\n",
              "      <td>1905.0</td>\n",
              "      <td>2</td>\n",
              "      <td>390000</td>\n",
              "      <td>2</td>\n",
              "      <td>18371.968504</td>\n",
              "    </tr>\n",
              "    <tr>\n",
              "      <th>4</th>\n",
              "      <td>Bella Vista</td>\n",
              "      <td>4 Bedroom</td>\n",
              "      <td>1313.0</td>\n",
              "      <td>2</td>\n",
              "      <td>370000</td>\n",
              "      <td>4</td>\n",
              "      <td>25288.499619</td>\n",
              "    </tr>\n",
              "    <tr>\n",
              "      <th>5</th>\n",
              "      <td>Calidonia</td>\n",
              "      <td>3 BHK</td>\n",
              "      <td>1076.0</td>\n",
              "      <td>1</td>\n",
              "      <td>215000</td>\n",
              "      <td>3</td>\n",
              "      <td>17931.319703</td>\n",
              "    </tr>\n",
              "    <tr>\n",
              "      <th>6</th>\n",
              "      <td>Calidonia</td>\n",
              "      <td>2 BHK</td>\n",
              "      <td>2088.0</td>\n",
              "      <td>3</td>\n",
              "      <td>360000</td>\n",
              "      <td>2</td>\n",
              "      <td>15472.413793</td>\n",
              "    </tr>\n",
              "    <tr>\n",
              "      <th>7</th>\n",
              "      <td>Bella Vista</td>\n",
              "      <td>4 Bedroom</td>\n",
              "      <td>1819.0</td>\n",
              "      <td>2</td>\n",
              "      <td>550000</td>\n",
              "      <td>4</td>\n",
              "      <td>27134.139637</td>\n",
              "    </tr>\n",
              "    <tr>\n",
              "      <th>8</th>\n",
              "      <td>Bella Vista</td>\n",
              "      <td>3 BHK</td>\n",
              "      <td>8073.0</td>\n",
              "      <td>3</td>\n",
              "      <td>1500000</td>\n",
              "      <td>3</td>\n",
              "      <td>16674.098848</td>\n",
              "    </tr>\n",
              "    <tr>\n",
              "      <th>9</th>\n",
              "      <td>Calidonia</td>\n",
              "      <td>2 BHK</td>\n",
              "      <td>6458.0</td>\n",
              "      <td>4</td>\n",
              "      <td>1500000</td>\n",
              "      <td>2</td>\n",
              "      <td>20843.914525</td>\n",
              "    </tr>\n",
              "  </tbody>\n",
              "</table>\n",
              "</div>"
            ],
            "text/plain": [
              "      location       size  total_sqft  bath    price  bhk  price_per_sqft\n",
              "0    Calidonia      2 BHK      1281.0     2   250000    2    17513.661202\n",
              "1    Calidonia  4 Bedroom      4359.0     3   589000    4    12125.914201\n",
              "2    Calidonia      3 BHK      1819.0     3   338000    3    16675.162177\n",
              "3  Bella Vista      2 BHK      1905.0     2   390000    2    18371.968504\n",
              "4  Bella Vista  4 Bedroom      1313.0     2   370000    4    25288.499619\n",
              "5    Calidonia      3 BHK      1076.0     1   215000    3    17931.319703\n",
              "6    Calidonia      2 BHK      2088.0     3   360000    2    15472.413793\n",
              "7  Bella Vista  4 Bedroom      1819.0     2   550000    4    27134.139637\n",
              "8  Bella Vista      3 BHK      8073.0     3  1500000    3    16674.098848\n",
              "9    Calidonia      2 BHK      6458.0     4  1500000    2    20843.914525"
            ]
          },
          "metadata": {
            "tags": []
          },
          "execution_count": 100
        }
      ]
    },
    {
      "cell_type": "markdown",
      "metadata": {
        "id": "Ksvl5Ty1ot2L"
      },
      "source": [
        "Outlier Removal Using Business Logic"
      ]
    },
    {
      "cell_type": "code",
      "metadata": {
        "colab": {
          "base_uri": "https://localhost:8080/",
          "height": 206
        },
        "id": "boq_TFReosVR",
        "outputId": "6bfac826-11fc-4118-bc2f-bad10759d06d"
      },
      "source": [
        "data5[data5.total_sqft/data5.bhk<300].head()"
      ],
      "execution_count": 101,
      "outputs": [
        {
          "output_type": "execute_result",
          "data": {
            "text/html": [
              "<div>\n",
              "<style scoped>\n",
              "    .dataframe tbody tr th:only-of-type {\n",
              "        vertical-align: middle;\n",
              "    }\n",
              "\n",
              "    .dataframe tbody tr th {\n",
              "        vertical-align: top;\n",
              "    }\n",
              "\n",
              "    .dataframe thead th {\n",
              "        text-align: right;\n",
              "    }\n",
              "</style>\n",
              "<table border=\"1\" class=\"dataframe\">\n",
              "  <thead>\n",
              "    <tr style=\"text-align: right;\">\n",
              "      <th></th>\n",
              "      <th>location</th>\n",
              "      <th>size</th>\n",
              "      <th>total_sqft</th>\n",
              "      <th>bath</th>\n",
              "      <th>price</th>\n",
              "      <th>bhk</th>\n",
              "      <th>price_per_sqft</th>\n",
              "    </tr>\n",
              "  </thead>\n",
              "  <tbody>\n",
              "    <tr>\n",
              "      <th>16</th>\n",
              "      <td>Calidonia</td>\n",
              "      <td>4 Bedroom</td>\n",
              "      <td>936.0</td>\n",
              "      <td>1</td>\n",
              "      <td>220000</td>\n",
              "      <td>4</td>\n",
              "      <td>21092.735043</td>\n",
              "    </tr>\n",
              "    <tr>\n",
              "      <th>46</th>\n",
              "      <td>Punta Pacifica, San francisco</td>\n",
              "      <td>4 Bedroom</td>\n",
              "      <td>1066.0</td>\n",
              "      <td>1</td>\n",
              "      <td>277000</td>\n",
              "      <td>4</td>\n",
              "      <td>23318.930582</td>\n",
              "    </tr>\n",
              "    <tr>\n",
              "      <th>70</th>\n",
              "      <td>Punta Pacifica, San francisco</td>\n",
              "      <td>4 Bedroom</td>\n",
              "      <td>947.0</td>\n",
              "      <td>2</td>\n",
              "      <td>190000</td>\n",
              "      <td>4</td>\n",
              "      <td>18004.857445</td>\n",
              "    </tr>\n",
              "    <tr>\n",
              "      <th>100</th>\n",
              "      <td>Calidonia</td>\n",
              "      <td>4 Bedroom</td>\n",
              "      <td>936.0</td>\n",
              "      <td>1</td>\n",
              "      <td>220000</td>\n",
              "      <td>4</td>\n",
              "      <td>21092.735043</td>\n",
              "    </tr>\n",
              "    <tr>\n",
              "      <th>115</th>\n",
              "      <td>other</td>\n",
              "      <td>4 Bedroom</td>\n",
              "      <td>1184.0</td>\n",
              "      <td>2</td>\n",
              "      <td>205000</td>\n",
              "      <td>4</td>\n",
              "      <td>15537.753378</td>\n",
              "    </tr>\n",
              "  </tbody>\n",
              "</table>\n",
              "</div>"
            ],
            "text/plain": [
              "                          location       size  ...  bhk  price_per_sqft\n",
              "16                       Calidonia  4 Bedroom  ...    4    21092.735043\n",
              "46   Punta Pacifica, San francisco  4 Bedroom  ...    4    23318.930582\n",
              "70   Punta Pacifica, San francisco  4 Bedroom  ...    4    18004.857445\n",
              "100                      Calidonia  4 Bedroom  ...    4    21092.735043\n",
              "115                          other  4 Bedroom  ...    4    15537.753378\n",
              "\n",
              "[5 rows x 7 columns]"
            ]
          },
          "metadata": {
            "tags": []
          },
          "execution_count": 101
        }
      ]
    },
    {
      "cell_type": "code",
      "metadata": {
        "colab": {
          "base_uri": "https://localhost:8080/"
        },
        "id": "5Y44gQn5o4T_",
        "outputId": "f32f4a50-479e-4bbc-b528-8d55fd87d8bd"
      },
      "source": [
        "data5.shape"
      ],
      "execution_count": 102,
      "outputs": [
        {
          "output_type": "execute_result",
          "data": {
            "text/plain": [
              "(290, 7)"
            ]
          },
          "metadata": {
            "tags": []
          },
          "execution_count": 102
        }
      ]
    },
    {
      "cell_type": "code",
      "metadata": {
        "colab": {
          "base_uri": "https://localhost:8080/"
        },
        "id": "8y23U3VTo7tj",
        "outputId": "16c5d87f-5242-441a-e587-8d88b2c218c4"
      },
      "source": [
        "data6 = data5[~(data5.total_sqft/data5.bhk<300)]\r\n",
        "data6.shape"
      ],
      "execution_count": 103,
      "outputs": [
        {
          "output_type": "execute_result",
          "data": {
            "text/plain": [
              "(280, 7)"
            ]
          },
          "metadata": {
            "tags": []
          },
          "execution_count": 103
        }
      ]
    },
    {
      "cell_type": "markdown",
      "metadata": {
        "id": "eY6Hz0PPpEnK"
      },
      "source": [
        "Outlier Removal Using Standard Deviation and Mean"
      ]
    },
    {
      "cell_type": "code",
      "metadata": {
        "colab": {
          "base_uri": "https://localhost:8080/"
        },
        "id": "Wneise3VpCU-",
        "outputId": "e87c45f8-932a-4f82-ef85-5c2ed1596acb"
      },
      "source": [
        "data6.price_per_sqft.describe()"
      ],
      "execution_count": 104,
      "outputs": [
        {
          "output_type": "execute_result",
          "data": {
            "text/plain": [
              "count      280.000000\n",
              "mean     19431.569209\n",
              "std       5919.674488\n",
              "min       8337.790345\n",
              "25%      15583.903533\n",
              "50%      18410.221057\n",
              "75%      22587.907445\n",
              "max      59231.047198\n",
              "Name: price_per_sqft, dtype: float64"
            ]
          },
          "metadata": {
            "tags": []
          },
          "execution_count": 104
        }
      ]
    },
    {
      "cell_type": "code",
      "metadata": {
        "colab": {
          "base_uri": "https://localhost:8080/"
        },
        "id": "jcqb9elmpL-O",
        "outputId": "b7847fb3-161a-4307-a3da-4cd7ff305f31"
      },
      "source": [
        "def remove_pps_outliers(data):\r\n",
        "    df_out = pd.DataFrame()\r\n",
        "    for key, subdf in data.groupby('location'):\r\n",
        "        m = np.mean(subdf.price_per_sqft)\r\n",
        "        st = np.std(subdf.price_per_sqft)\r\n",
        "        reduced_df = subdf[(subdf.price_per_sqft>(m-st)) & (subdf.price_per_sqft<=(m+st))]\r\n",
        "        df_out = pd.concat([df_out,reduced_df],ignore_index=True)\r\n",
        "    return df_out\r\n",
        "data7 = remove_pps_outliers(data6)\r\n",
        "data7.shape"
      ],
      "execution_count": 115,
      "outputs": [
        {
          "output_type": "execute_result",
          "data": {
            "text/plain": [
              "(198, 7)"
            ]
          },
          "metadata": {
            "tags": []
          },
          "execution_count": 115
        }
      ]
    },
    {
      "cell_type": "markdown",
      "metadata": {
        "id": "nvIMwEUWpX4g"
      },
      "source": [
        "Let's check if for a given location how does the 2 BHK and 3 BHK property prices look like"
      ]
    },
    {
      "cell_type": "code",
      "metadata": {
        "colab": {
          "base_uri": "https://localhost:8080/",
          "height": 621
        },
        "id": "wcnZJrKQpYdz",
        "outputId": "1d67b6be-cb08-40e9-8e78-c3518edb3545"
      },
      "source": [
        "def plot_scatter_chart(data,location):\r\n",
        "    bhk2 = data[(data.location==location) & (data.bhk==2)]\r\n",
        "    bhk3 = data[(data.location==location) & (data.bhk==3)]\r\n",
        "    matplotlib.rcParams['figure.figsize'] = (15,10)\r\n",
        "    plt.scatter(bhk2.total_sqft,bhk2.price,color='lightcoral',label='2 BHK', s=50)\r\n",
        "    plt.scatter(bhk3.total_sqft,bhk3.price,marker='+', color='darkslategray',label='3 BHK', s=50)\r\n",
        "    plt.xlabel(\"Total Square Feet Area\")\r\n",
        "    plt.ylabel(\"Price (USD)\")\r\n",
        "    plt.title(location)\r\n",
        "    plt.legend()\r\n",
        "    \r\n",
        "plot_scatter_chart(data7,\"Bella Vista\")"
      ],
      "execution_count": 116,
      "outputs": [
        {
          "output_type": "display_data",
          "data": {
            "image/png": "[encoded data removed]",
            "text/plain": [
              "<Figure size 1080x720 with 1 Axes>"
            ]
          },
          "metadata": {
            "tags": [],
            "needs_background": "light"
          }
        }
      ]
    },
    {
      "cell_type": "markdown",
      "metadata": {
        "id": "NzICGbKMqmDB"
      },
      "source": [
        "Remove those 2 BHK apartments whose price_per_sqft is less than mean price_per_sqft of 1 BHK apartment"
      ]
    },
    {
      "cell_type": "code",
      "metadata": {
        "colab": {
          "base_uri": "https://localhost:8080/"
        },
        "id": "obn65DTIqh-N",
        "outputId": "e07ecdb1-48fb-406b-91b0-621c2531503d"
      },
      "source": [
        "def remove_bhk_outliers(data):\r\n",
        "    exclude_indices = np.array([])\r\n",
        "    for location, location_df in data.groupby('location'):\r\n",
        "        bhk_stats = {}\r\n",
        "        for bhk, bhk_df in location_df.groupby('bhk'):\r\n",
        "            bhk_stats[bhk] = {\r\n",
        "                'mean': np.mean(bhk_df.price_per_sqft),\r\n",
        "                'std': np.std(bhk_df.price_per_sqft),\r\n",
        "                'count': bhk_df.shape[0]\r\n",
        "            }\r\n",
        "        for bhk, bhk_df in location_df.groupby('bhk'):\r\n",
        "            stats = bhk_stats.get(bhk-1)\r\n",
        "            if stats and stats['count']>5:\r\n",
        "                exclude_indices = np.append(exclude_indices, bhk_df[bhk_df.price_per_sqft<(stats['mean'])].index.values)\r\n",
        "    return data.drop(exclude_indices,axis='index')\r\n",
        "data8 = remove_bhk_outliers(data7)\r\n",
        "# df8 = df7.copy()\r\n",
        "data8.shape"
      ],
      "execution_count": 117,
      "outputs": [
        {
          "output_type": "execute_result",
          "data": {
            "text/plain": [
              "(140, 7)"
            ]
          },
          "metadata": {
            "tags": []
          },
          "execution_count": 117
        }
      ]
    },
    {
      "cell_type": "markdown",
      "metadata": {
        "id": "PvSQU0h4q4Wv"
      },
      "source": [
        "Plot same scatter chart again to visualize price_per_sqft for 2 BHK and 3 BHK properties"
      ]
    },
    {
      "cell_type": "code",
      "metadata": {
        "colab": {
          "base_uri": "https://localhost:8080/",
          "height": 621
        },
        "id": "DWqYXdbvq5L1",
        "outputId": "47e97d63-4e98-496c-f682-0e6a9cfc4c4d"
      },
      "source": [
        "plot_scatter_chart(data8,\"Bella Vista\")"
      ],
      "execution_count": 119,
      "outputs": [
        {
          "output_type": "display_data",
          "data": {
            "image/png": "[encoded data removed]",
            "text/plain": [
              "<Figure size 1080x720 with 1 Axes>"
            ]
          },
          "metadata": {
            "tags": [],
            "needs_background": "light"
          }
        }
      ]
    },
    {
      "cell_type": "markdown",
      "metadata": {
        "id": "GBWsaBIcrC0p"
      },
      "source": [
        "\r\n",
        "\r\n",
        "Based on above charts the data points highlighted in red below are outliers and they are being removed due to remove_bhk_outliers function\r\n"
      ]
    },
    {
      "cell_type": "code",
      "metadata": {
        "colab": {
          "base_uri": "https://localhost:8080/",
          "height": 624
        },
        "id": "IB0ltDUNrArZ",
        "outputId": "190ba2fa-80f6-4a45-ccd9-4973c0246e12"
      },
      "source": [
        "import matplotlib\r\n",
        "matplotlib.rcParams[\"figure.figsize\"] = (20,10)\r\n",
        "plt.hist(data8.price_per_sqft,rwidth=0.8, color = \"brown\")\r\n",
        "plt.xlabel(\"Price Per Square Feet\")\r\n",
        "plt.ylabel(\"Count\")"
      ],
      "execution_count": 120,
      "outputs": [
        {
          "output_type": "execute_result",
          "data": {
            "text/plain": [
              "Text(0, 0.5, 'Count')"
            ]
          },
          "metadata": {
            "tags": []
          },
          "execution_count": 120
        },
        {
          "output_type": "display_data",
          "data": {
            "image/png": "[encoded data removed]",
            "text/plain": [
              "<Figure size 1440x720 with 1 Axes>"
            ]
          },
          "metadata": {
            "tags": [],
            "needs_background": "light"
          }
        }
      ]
    },
    {
      "cell_type": "markdown",
      "metadata": {
        "id": "x0qgBREwzlv0"
      },
      "source": [
        "Outlier Removal Using Bathrooms Feature"
      ]
    },
    {
      "cell_type": "code",
      "metadata": {
        "colab": {
          "base_uri": "https://localhost:8080/"
        },
        "id": "byHX5TBbzmdT",
        "outputId": "071908cc-c193-4ccc-f288-7b841dbac7f0"
      },
      "source": [
        "data8.bath.unique()"
      ],
      "execution_count": 121,
      "outputs": [
        {
          "output_type": "execute_result",
          "data": {
            "text/plain": [
              "array([2, 3, 1, 4, 5, 6])"
            ]
          },
          "metadata": {
            "tags": []
          },
          "execution_count": 121
        }
      ]
    },
    {
      "cell_type": "code",
      "metadata": {
        "colab": {
          "base_uri": "https://localhost:8080/",
          "height": 624
        },
        "id": "kwT9gTYQztPe",
        "outputId": "39b98e93-4d44-4a1e-b961-52da707a45bb"
      },
      "source": [
        "plt.hist(data8.bath,rwidth=0.8, color = \"burlywood\")\r\n",
        "plt.xlabel(\"Number of bathrooms\")\r\n",
        "plt.ylabel(\"Count\")"
      ],
      "execution_count": 122,
      "outputs": [
        {
          "output_type": "execute_result",
          "data": {
            "text/plain": [
              "Text(0, 0.5, 'Count')"
            ]
          },
          "metadata": {
            "tags": []
          },
          "execution_count": 122
        },
        {
          "output_type": "display_data",
          "data": {
            "image/png": "[encoded data removed]",
            "text/plain": [
              "<Figure size 1440x720 with 1 Axes>"
            ]
          },
          "metadata": {
            "tags": [],
            "needs_background": "light"
          }
        }
      ]
    },
    {
      "cell_type": "code",
      "metadata": {
        "colab": {
          "base_uri": "https://localhost:8080/",
          "height": 739
        },
        "id": "J-0PYy_Tz13s",
        "outputId": "34177309-c8ce-4e58-b002-f9b6a14895f3"
      },
      "source": [
        "data8[data8.bath>3]"
      ],
      "execution_count": 125,
      "outputs": [
        {
          "output_type": "execute_result",
          "data": {
            "text/html": [
              "<div>\n",
              "<style scoped>\n",
              "    .dataframe tbody tr th:only-of-type {\n",
              "        vertical-align: middle;\n",
              "    }\n",
              "\n",
              "    .dataframe tbody tr th {\n",
              "        vertical-align: top;\n",
              "    }\n",
              "\n",
              "    .dataframe thead th {\n",
              "        text-align: right;\n",
              "    }\n",
              "</style>\n",
              "<table border=\"1\" class=\"dataframe\">\n",
              "  <thead>\n",
              "    <tr style=\"text-align: right;\">\n",
              "      <th></th>\n",
              "      <th>location</th>\n",
              "      <th>size</th>\n",
              "      <th>total_sqft</th>\n",
              "      <th>bath</th>\n",
              "      <th>price</th>\n",
              "      <th>bhk</th>\n",
              "      <th>price_per_sqft</th>\n",
              "    </tr>\n",
              "  </thead>\n",
              "  <tbody>\n",
              "    <tr>\n",
              "      <th>36</th>\n",
              "      <td>Calidonia</td>\n",
              "      <td>2 BHK</td>\n",
              "      <td>6458.0</td>\n",
              "      <td>4</td>\n",
              "      <td>1500000</td>\n",
              "      <td>2</td>\n",
              "      <td>20843.914525</td>\n",
              "    </tr>\n",
              "    <tr>\n",
              "      <th>43</th>\n",
              "      <td>Calidonia</td>\n",
              "      <td>2 BHK</td>\n",
              "      <td>6458.0</td>\n",
              "      <td>4</td>\n",
              "      <td>1500000</td>\n",
              "      <td>2</td>\n",
              "      <td>20843.914525</td>\n",
              "    </tr>\n",
              "    <tr>\n",
              "      <th>52</th>\n",
              "      <td>Costa del Este</td>\n",
              "      <td>2 BHK</td>\n",
              "      <td>3552.0</td>\n",
              "      <td>4</td>\n",
              "      <td>620000</td>\n",
              "      <td>2</td>\n",
              "      <td>15664.076577</td>\n",
              "    </tr>\n",
              "    <tr>\n",
              "      <th>59</th>\n",
              "      <td>Costa del Este</td>\n",
              "      <td>2 BHK</td>\n",
              "      <td>5651.0</td>\n",
              "      <td>4</td>\n",
              "      <td>1300000</td>\n",
              "      <td>2</td>\n",
              "      <td>20644.487701</td>\n",
              "    </tr>\n",
              "    <tr>\n",
              "      <th>66</th>\n",
              "      <td>Costa del Este</td>\n",
              "      <td>3 BHK</td>\n",
              "      <td>6189.0</td>\n",
              "      <td>4</td>\n",
              "      <td>1350000</td>\n",
              "      <td>3</td>\n",
              "      <td>19574.890936</td>\n",
              "    </tr>\n",
              "    <tr>\n",
              "      <th>67</th>\n",
              "      <td>Costa del Este</td>\n",
              "      <td>2 BHK</td>\n",
              "      <td>4413.0</td>\n",
              "      <td>4</td>\n",
              "      <td>875000</td>\n",
              "      <td>2</td>\n",
              "      <td>17793.451167</td>\n",
              "    </tr>\n",
              "    <tr>\n",
              "      <th>71</th>\n",
              "      <td>Costa del Este</td>\n",
              "      <td>3 BHK</td>\n",
              "      <td>6738.0</td>\n",
              "      <td>4</td>\n",
              "      <td>1550000</td>\n",
              "      <td>3</td>\n",
              "      <td>20643.662808</td>\n",
              "    </tr>\n",
              "    <tr>\n",
              "      <th>78</th>\n",
              "      <td>Costa del Este</td>\n",
              "      <td>4 Bedroom</td>\n",
              "      <td>4768.0</td>\n",
              "      <td>5</td>\n",
              "      <td>1200000</td>\n",
              "      <td>4</td>\n",
              "      <td>22585.570470</td>\n",
              "    </tr>\n",
              "    <tr>\n",
              "      <th>88</th>\n",
              "      <td>Costa del Este,Juan Díaz</td>\n",
              "      <td>3 BHK</td>\n",
              "      <td>7319.0</td>\n",
              "      <td>4</td>\n",
              "      <td>2000000</td>\n",
              "      <td>3</td>\n",
              "      <td>24522.475748</td>\n",
              "    </tr>\n",
              "    <tr>\n",
              "      <th>96</th>\n",
              "      <td>Costa del Este,Juan Díaz</td>\n",
              "      <td>2 BHK</td>\n",
              "      <td>11840.0</td>\n",
              "      <td>5</td>\n",
              "      <td>2500000</td>\n",
              "      <td>2</td>\n",
              "      <td>18948.479730</td>\n",
              "    </tr>\n",
              "    <tr>\n",
              "      <th>97</th>\n",
              "      <td>Costa del Este,Juan Díaz</td>\n",
              "      <td>4 Bedroom</td>\n",
              "      <td>5027.0</td>\n",
              "      <td>4</td>\n",
              "      <td>1300000</td>\n",
              "      <td>4</td>\n",
              "      <td>23207.081759</td>\n",
              "    </tr>\n",
              "    <tr>\n",
              "      <th>98</th>\n",
              "      <td>Costa del Este,Juan Díaz</td>\n",
              "      <td>3 BHK</td>\n",
              "      <td>6135.0</td>\n",
              "      <td>4</td>\n",
              "      <td>1500000</td>\n",
              "      <td>3</td>\n",
              "      <td>21941.320293</td>\n",
              "    </tr>\n",
              "    <tr>\n",
              "      <th>117</th>\n",
              "      <td>Punta Pacifica, San francisco</td>\n",
              "      <td>2 BHK</td>\n",
              "      <td>5662.0</td>\n",
              "      <td>4</td>\n",
              "      <td>1000000</td>\n",
              "      <td>2</td>\n",
              "      <td>15849.523137</td>\n",
              "    </tr>\n",
              "    <tr>\n",
              "      <th>119</th>\n",
              "      <td>Punta Pacifica, San francisco</td>\n",
              "      <td>2 BHK</td>\n",
              "      <td>4392.0</td>\n",
              "      <td>4</td>\n",
              "      <td>720000</td>\n",
              "      <td>2</td>\n",
              "      <td>14711.475410</td>\n",
              "    </tr>\n",
              "    <tr>\n",
              "      <th>135</th>\n",
              "      <td>Punta Pacifica, San francisco</td>\n",
              "      <td>4 Bedroom</td>\n",
              "      <td>3294.0</td>\n",
              "      <td>4</td>\n",
              "      <td>720000</td>\n",
              "      <td>4</td>\n",
              "      <td>19615.300546</td>\n",
              "    </tr>\n",
              "    <tr>\n",
              "      <th>144</th>\n",
              "      <td>Punta Pacifica, San francisco</td>\n",
              "      <td>2 BHK</td>\n",
              "      <td>4349.0</td>\n",
              "      <td>4</td>\n",
              "      <td>1095000</td>\n",
              "      <td>2</td>\n",
              "      <td>22594.918372</td>\n",
              "    </tr>\n",
              "    <tr>\n",
              "      <th>145</th>\n",
              "      <td>Punta Pacifica, San francisco</td>\n",
              "      <td>3 BHK</td>\n",
              "      <td>3014.0</td>\n",
              "      <td>4</td>\n",
              "      <td>660000</td>\n",
              "      <td>3</td>\n",
              "      <td>19651.094891</td>\n",
              "    </tr>\n",
              "    <tr>\n",
              "      <th>149</th>\n",
              "      <td>Punta Pacifica, San francisco</td>\n",
              "      <td>4 Bedroom</td>\n",
              "      <td>3907.0</td>\n",
              "      <td>6</td>\n",
              "      <td>950000</td>\n",
              "      <td>4</td>\n",
              "      <td>21820.578449</td>\n",
              "    </tr>\n",
              "    <tr>\n",
              "      <th>166</th>\n",
              "      <td>San Francisco</td>\n",
              "      <td>2 BHK</td>\n",
              "      <td>4725.0</td>\n",
              "      <td>4</td>\n",
              "      <td>715000</td>\n",
              "      <td>2</td>\n",
              "      <td>13579.703704</td>\n",
              "    </tr>\n",
              "    <tr>\n",
              "      <th>182</th>\n",
              "      <td>other</td>\n",
              "      <td>4 Bedroom</td>\n",
              "      <td>4478.0</td>\n",
              "      <td>4</td>\n",
              "      <td>1249000</td>\n",
              "      <td>4</td>\n",
              "      <td>25030.205449</td>\n",
              "    </tr>\n",
              "    <tr>\n",
              "      <th>183</th>\n",
              "      <td>other</td>\n",
              "      <td>3 BHK</td>\n",
              "      <td>3186.0</td>\n",
              "      <td>5</td>\n",
              "      <td>750000</td>\n",
              "      <td>3</td>\n",
              "      <td>21125.235405</td>\n",
              "    </tr>\n",
              "    <tr>\n",
              "      <th>187</th>\n",
              "      <td>other</td>\n",
              "      <td>2 BHK</td>\n",
              "      <td>3186.0</td>\n",
              "      <td>4</td>\n",
              "      <td>690000</td>\n",
              "      <td>2</td>\n",
              "      <td>19435.216573</td>\n",
              "    </tr>\n",
              "  </tbody>\n",
              "</table>\n",
              "</div>"
            ],
            "text/plain": [
              "                          location       size  ...  bhk  price_per_sqft\n",
              "36                       Calidonia      2 BHK  ...    2    20843.914525\n",
              "43                       Calidonia      2 BHK  ...    2    20843.914525\n",
              "52                  Costa del Este      2 BHK  ...    2    15664.076577\n",
              "59                  Costa del Este      2 BHK  ...    2    20644.487701\n",
              "66                  Costa del Este      3 BHK  ...    3    19574.890936\n",
              "67                  Costa del Este      2 BHK  ...    2    17793.451167\n",
              "71                  Costa del Este      3 BHK  ...    3    20643.662808\n",
              "78                  Costa del Este  4 Bedroom  ...    4    22585.570470\n",
              "88        Costa del Este,Juan Díaz      3 BHK  ...    3    24522.475748\n",
              "96        Costa del Este,Juan Díaz      2 BHK  ...    2    18948.479730\n",
              "97        Costa del Este,Juan Díaz  4 Bedroom  ...    4    23207.081759\n",
              "98        Costa del Este,Juan Díaz      3 BHK  ...    3    21941.320293\n",
              "117  Punta Pacifica, San francisco      2 BHK  ...    2    15849.523137\n",
              "119  Punta Pacifica, San francisco      2 BHK  ...    2    14711.475410\n",
              "135  Punta Pacifica, San francisco  4 Bedroom  ...    4    19615.300546\n",
              "144  Punta Pacifica, San francisco      2 BHK  ...    2    22594.918372\n",
              "145  Punta Pacifica, San francisco      3 BHK  ...    3    19651.094891\n",
              "149  Punta Pacifica, San francisco  4 Bedroom  ...    4    21820.578449\n",
              "166                  San Francisco      2 BHK  ...    2    13579.703704\n",
              "182                          other  4 Bedroom  ...    4    25030.205449\n",
              "183                          other      3 BHK  ...    3    21125.235405\n",
              "187                          other      2 BHK  ...    2    19435.216573\n",
              "\n",
              "[22 rows x 7 columns]"
            ]
          },
          "metadata": {
            "tags": []
          },
          "execution_count": 125
        }
      ]
    },
    {
      "cell_type": "markdown",
      "metadata": {
        "id": "euxoaHhO0Imf"
      },
      "source": [
        "It is unusual to have 2 more bathrooms than number of bedrooms in a home"
      ]
    },
    {
      "cell_type": "code",
      "metadata": {
        "colab": {
          "base_uri": "https://localhost:8080/",
          "height": 81
        },
        "id": "93L6FAaf0Av_",
        "outputId": "b3738b23-8419-4815-a9aa-803f4cafe4e6"
      },
      "source": [
        "data8[data8.bath>data8.bhk+2]"
      ],
      "execution_count": 126,
      "outputs": [
        {
          "output_type": "execute_result",
          "data": {
            "text/html": [
              "<div>\n",
              "<style scoped>\n",
              "    .dataframe tbody tr th:only-of-type {\n",
              "        vertical-align: middle;\n",
              "    }\n",
              "\n",
              "    .dataframe tbody tr th {\n",
              "        vertical-align: top;\n",
              "    }\n",
              "\n",
              "    .dataframe thead th {\n",
              "        text-align: right;\n",
              "    }\n",
              "</style>\n",
              "<table border=\"1\" class=\"dataframe\">\n",
              "  <thead>\n",
              "    <tr style=\"text-align: right;\">\n",
              "      <th></th>\n",
              "      <th>location</th>\n",
              "      <th>size</th>\n",
              "      <th>total_sqft</th>\n",
              "      <th>bath</th>\n",
              "      <th>price</th>\n",
              "      <th>bhk</th>\n",
              "      <th>price_per_sqft</th>\n",
              "    </tr>\n",
              "  </thead>\n",
              "  <tbody>\n",
              "    <tr>\n",
              "      <th>96</th>\n",
              "      <td>Costa del Este,Juan Díaz</td>\n",
              "      <td>2 BHK</td>\n",
              "      <td>11840.0</td>\n",
              "      <td>5</td>\n",
              "      <td>2500000</td>\n",
              "      <td>2</td>\n",
              "      <td>18948.47973</td>\n",
              "    </tr>\n",
              "  </tbody>\n",
              "</table>\n",
              "</div>"
            ],
            "text/plain": [
              "                    location   size  total_sqft  ...    price  bhk  price_per_sqft\n",
              "96  Costa del Este,Juan Díaz  2 BHK     11840.0  ...  2500000    2     18948.47973\n",
              "\n",
              "[1 rows x 7 columns]"
            ]
          },
          "metadata": {
            "tags": []
          },
          "execution_count": 126
        }
      ]
    },
    {
      "cell_type": "code",
      "metadata": {
        "colab": {
          "base_uri": "https://localhost:8080/"
        },
        "id": "255pZkki0K5P",
        "outputId": "7b819e16-d32e-47f0-a531-57f2908e266c"
      },
      "source": [
        "data9 = data8[data8.bath<data8.bhk+2]\r\n",
        "data9.shape"
      ],
      "execution_count": 127,
      "outputs": [
        {
          "output_type": "execute_result",
          "data": {
            "text/plain": [
              "(127, 7)"
            ]
          },
          "metadata": {
            "tags": []
          },
          "execution_count": 127
        }
      ]
    },
    {
      "cell_type": "code",
      "metadata": {
        "colab": {
          "base_uri": "https://localhost:8080/",
          "height": 112
        },
        "id": "If4So0FR0Q-y",
        "outputId": "725dd0d4-da2e-4857-be02-a723c20efea0"
      },
      "source": [
        "data9.head(2)"
      ],
      "execution_count": 128,
      "outputs": [
        {
          "output_type": "execute_result",
          "data": {
            "text/html": [
              "<div>\n",
              "<style scoped>\n",
              "    .dataframe tbody tr th:only-of-type {\n",
              "        vertical-align: middle;\n",
              "    }\n",
              "\n",
              "    .dataframe tbody tr th {\n",
              "        vertical-align: top;\n",
              "    }\n",
              "\n",
              "    .dataframe thead th {\n",
              "        text-align: right;\n",
              "    }\n",
              "</style>\n",
              "<table border=\"1\" class=\"dataframe\">\n",
              "  <thead>\n",
              "    <tr style=\"text-align: right;\">\n",
              "      <th></th>\n",
              "      <th>location</th>\n",
              "      <th>size</th>\n",
              "      <th>total_sqft</th>\n",
              "      <th>bath</th>\n",
              "      <th>price</th>\n",
              "      <th>bhk</th>\n",
              "      <th>price_per_sqft</th>\n",
              "    </tr>\n",
              "  </thead>\n",
              "  <tbody>\n",
              "    <tr>\n",
              "      <th>0</th>\n",
              "      <td>Bella Vista</td>\n",
              "      <td>2 BHK</td>\n",
              "      <td>1905.0</td>\n",
              "      <td>2</td>\n",
              "      <td>390000</td>\n",
              "      <td>2</td>\n",
              "      <td>18371.968504</td>\n",
              "    </tr>\n",
              "    <tr>\n",
              "      <th>2</th>\n",
              "      <td>Bella Vista</td>\n",
              "      <td>4 Bedroom</td>\n",
              "      <td>3735.0</td>\n",
              "      <td>3</td>\n",
              "      <td>950000</td>\n",
              "      <td>4</td>\n",
              "      <td>22825.435074</td>\n",
              "    </tr>\n",
              "  </tbody>\n",
              "</table>\n",
              "</div>"
            ],
            "text/plain": [
              "      location       size  total_sqft  bath   price  bhk  price_per_sqft\n",
              "0  Bella Vista      2 BHK      1905.0     2  390000    2    18371.968504\n",
              "2  Bella Vista  4 Bedroom      3735.0     3  950000    4    22825.435074"
            ]
          },
          "metadata": {
            "tags": []
          },
          "execution_count": 128
        }
      ]
    },
    {
      "cell_type": "code",
      "metadata": {
        "colab": {
          "base_uri": "https://localhost:8080/",
          "height": 143
        },
        "id": "mPUeuSCz0UFv",
        "outputId": "eae45b91-ef0a-4cac-b37a-1ee25d4db051"
      },
      "source": [
        "data10 = data9.drop(['size','price_per_sqft'],axis='columns')\r\n",
        "data10.head(3)"
      ],
      "execution_count": 129,
      "outputs": [
        {
          "output_type": "execute_result",
          "data": {
            "text/html": [
              "<div>\n",
              "<style scoped>\n",
              "    .dataframe tbody tr th:only-of-type {\n",
              "        vertical-align: middle;\n",
              "    }\n",
              "\n",
              "    .dataframe tbody tr th {\n",
              "        vertical-align: top;\n",
              "    }\n",
              "\n",
              "    .dataframe thead th {\n",
              "        text-align: right;\n",
              "    }\n",
              "</style>\n",
              "<table border=\"1\" class=\"dataframe\">\n",
              "  <thead>\n",
              "    <tr style=\"text-align: right;\">\n",
              "      <th></th>\n",
              "      <th>location</th>\n",
              "      <th>total_sqft</th>\n",
              "      <th>bath</th>\n",
              "      <th>price</th>\n",
              "      <th>bhk</th>\n",
              "    </tr>\n",
              "  </thead>\n",
              "  <tbody>\n",
              "    <tr>\n",
              "      <th>0</th>\n",
              "      <td>Bella Vista</td>\n",
              "      <td>1905.0</td>\n",
              "      <td>2</td>\n",
              "      <td>390000</td>\n",
              "      <td>2</td>\n",
              "    </tr>\n",
              "    <tr>\n",
              "      <th>2</th>\n",
              "      <td>Bella Vista</td>\n",
              "      <td>3735.0</td>\n",
              "      <td>3</td>\n",
              "      <td>950000</td>\n",
              "      <td>4</td>\n",
              "    </tr>\n",
              "    <tr>\n",
              "      <th>3</th>\n",
              "      <td>Bella Vista</td>\n",
              "      <td>4036.0</td>\n",
              "      <td>3</td>\n",
              "      <td>800000</td>\n",
              "      <td>2</td>\n",
              "    </tr>\n",
              "  </tbody>\n",
              "</table>\n",
              "</div>"
            ],
            "text/plain": [
              "      location  total_sqft  bath   price  bhk\n",
              "0  Bella Vista      1905.0     2  390000    2\n",
              "2  Bella Vista      3735.0     3  950000    4\n",
              "3  Bella Vista      4036.0     3  800000    2"
            ]
          },
          "metadata": {
            "tags": []
          },
          "execution_count": 129
        }
      ]
    },
    {
      "cell_type": "markdown",
      "metadata": {
        "id": "q23E1pcG0huH"
      },
      "source": [
        "Use One Hot Encoding For Location"
      ]
    },
    {
      "cell_type": "code",
      "metadata": {
        "colab": {
          "base_uri": "https://localhost:8080/",
          "height": 143
        },
        "id": "j2YUn23u0goi",
        "outputId": "f6daefa8-20e7-42b8-c445-8ee70f43b74e"
      },
      "source": [
        "dummies = pd.get_dummies(data10.location)\r\n",
        "dummies.head(3)"
      ],
      "execution_count": 130,
      "outputs": [
        {
          "output_type": "execute_result",
          "data": {
            "text/html": [
              "<div>\n",
              "<style scoped>\n",
              "    .dataframe tbody tr th:only-of-type {\n",
              "        vertical-align: middle;\n",
              "    }\n",
              "\n",
              "    .dataframe tbody tr th {\n",
              "        vertical-align: top;\n",
              "    }\n",
              "\n",
              "    .dataframe thead th {\n",
              "        text-align: right;\n",
              "    }\n",
              "</style>\n",
              "<table border=\"1\" class=\"dataframe\">\n",
              "  <thead>\n",
              "    <tr style=\"text-align: right;\">\n",
              "      <th></th>\n",
              "      <th>Bella Vista</th>\n",
              "      <th>Calidonia</th>\n",
              "      <th>Costa del Este</th>\n",
              "      <th>Costa del Este,Juan Díaz</th>\n",
              "      <th>Punta Pacifica, San francisco</th>\n",
              "      <th>San Francisco</th>\n",
              "      <th>other</th>\n",
              "    </tr>\n",
              "  </thead>\n",
              "  <tbody>\n",
              "    <tr>\n",
              "      <th>0</th>\n",
              "      <td>1</td>\n",
              "      <td>0</td>\n",
              "      <td>0</td>\n",
              "      <td>0</td>\n",
              "      <td>0</td>\n",
              "      <td>0</td>\n",
              "      <td>0</td>\n",
              "    </tr>\n",
              "    <tr>\n",
              "      <th>2</th>\n",
              "      <td>1</td>\n",
              "      <td>0</td>\n",
              "      <td>0</td>\n",
              "      <td>0</td>\n",
              "      <td>0</td>\n",
              "      <td>0</td>\n",
              "      <td>0</td>\n",
              "    </tr>\n",
              "    <tr>\n",
              "      <th>3</th>\n",
              "      <td>1</td>\n",
              "      <td>0</td>\n",
              "      <td>0</td>\n",
              "      <td>0</td>\n",
              "      <td>0</td>\n",
              "      <td>0</td>\n",
              "      <td>0</td>\n",
              "    </tr>\n",
              "  </tbody>\n",
              "</table>\n",
              "</div>"
            ],
            "text/plain": [
              "   Bella Vista  Calidonia  ...  San Francisco  other\n",
              "0            1          0  ...              0      0\n",
              "2            1          0  ...              0      0\n",
              "3            1          0  ...              0      0\n",
              "\n",
              "[3 rows x 7 columns]"
            ]
          },
          "metadata": {
            "tags": []
          },
          "execution_count": 130
        }
      ]
    },
    {
      "cell_type": "code",
      "metadata": {
        "colab": {
          "base_uri": "https://localhost:8080/",
          "height": 206
        },
        "id": "ZPlE9ueq0ql_",
        "outputId": "ad2479bf-17ee-4ab1-a7fa-638aa073e849"
      },
      "source": [
        "data11 = pd.concat([data10,dummies.drop('other',axis='columns')],axis='columns')\r\n",
        "data11.head()\r\n"
      ],
      "execution_count": 131,
      "outputs": [
        {
          "output_type": "execute_result",
          "data": {
            "text/html": [
              "<div>\n",
              "<style scoped>\n",
              "    .dataframe tbody tr th:only-of-type {\n",
              "        vertical-align: middle;\n",
              "    }\n",
              "\n",
              "    .dataframe tbody tr th {\n",
              "        vertical-align: top;\n",
              "    }\n",
              "\n",
              "    .dataframe thead th {\n",
              "        text-align: right;\n",
              "    }\n",
              "</style>\n",
              "<table border=\"1\" class=\"dataframe\">\n",
              "  <thead>\n",
              "    <tr style=\"text-align: right;\">\n",
              "      <th></th>\n",
              "      <th>location</th>\n",
              "      <th>total_sqft</th>\n",
              "      <th>bath</th>\n",
              "      <th>price</th>\n",
              "      <th>bhk</th>\n",
              "      <th>Bella Vista</th>\n",
              "      <th>Calidonia</th>\n",
              "      <th>Costa del Este</th>\n",
              "      <th>Costa del Este,Juan Díaz</th>\n",
              "      <th>Punta Pacifica, San francisco</th>\n",
              "      <th>San Francisco</th>\n",
              "    </tr>\n",
              "  </thead>\n",
              "  <tbody>\n",
              "    <tr>\n",
              "      <th>0</th>\n",
              "      <td>Bella Vista</td>\n",
              "      <td>1905.0</td>\n",
              "      <td>2</td>\n",
              "      <td>390000</td>\n",
              "      <td>2</td>\n",
              "      <td>1</td>\n",
              "      <td>0</td>\n",
              "      <td>0</td>\n",
              "      <td>0</td>\n",
              "      <td>0</td>\n",
              "      <td>0</td>\n",
              "    </tr>\n",
              "    <tr>\n",
              "      <th>2</th>\n",
              "      <td>Bella Vista</td>\n",
              "      <td>3735.0</td>\n",
              "      <td>3</td>\n",
              "      <td>950000</td>\n",
              "      <td>4</td>\n",
              "      <td>1</td>\n",
              "      <td>0</td>\n",
              "      <td>0</td>\n",
              "      <td>0</td>\n",
              "      <td>0</td>\n",
              "      <td>0</td>\n",
              "    </tr>\n",
              "    <tr>\n",
              "      <th>3</th>\n",
              "      <td>Bella Vista</td>\n",
              "      <td>4036.0</td>\n",
              "      <td>3</td>\n",
              "      <td>800000</td>\n",
              "      <td>2</td>\n",
              "      <td>1</td>\n",
              "      <td>0</td>\n",
              "      <td>0</td>\n",
              "      <td>0</td>\n",
              "      <td>0</td>\n",
              "      <td>0</td>\n",
              "    </tr>\n",
              "    <tr>\n",
              "      <th>4</th>\n",
              "      <td>Bella Vista</td>\n",
              "      <td>4036.0</td>\n",
              "      <td>3</td>\n",
              "      <td>900000</td>\n",
              "      <td>4</td>\n",
              "      <td>1</td>\n",
              "      <td>0</td>\n",
              "      <td>0</td>\n",
              "      <td>0</td>\n",
              "      <td>0</td>\n",
              "      <td>0</td>\n",
              "    </tr>\n",
              "    <tr>\n",
              "      <th>5</th>\n",
              "      <td>Bella Vista</td>\n",
              "      <td>1615.0</td>\n",
              "      <td>2</td>\n",
              "      <td>360000</td>\n",
              "      <td>2</td>\n",
              "      <td>1</td>\n",
              "      <td>0</td>\n",
              "      <td>0</td>\n",
              "      <td>0</td>\n",
              "      <td>0</td>\n",
              "      <td>0</td>\n",
              "    </tr>\n",
              "  </tbody>\n",
              "</table>\n",
              "</div>"
            ],
            "text/plain": [
              "      location  total_sqft  ...  Punta Pacifica, San francisco  San Francisco\n",
              "0  Bella Vista      1905.0  ...                              0              0\n",
              "2  Bella Vista      3735.0  ...                              0              0\n",
              "3  Bella Vista      4036.0  ...                              0              0\n",
              "4  Bella Vista      4036.0  ...                              0              0\n",
              "5  Bella Vista      1615.0  ...                              0              0\n",
              "\n",
              "[5 rows x 11 columns]"
            ]
          },
          "metadata": {
            "tags": []
          },
          "execution_count": 131
        }
      ]
    },
    {
      "cell_type": "code",
      "metadata": {
        "colab": {
          "base_uri": "https://localhost:8080/",
          "height": 112
        },
        "id": "KEPNXlSq01Rf",
        "outputId": "e436cde8-b7b1-4a31-afdd-bc0d24fc2fcf"
      },
      "source": [
        "data12 = data11.drop('location',axis='columns')\r\n",
        "data12.head(2)"
      ],
      "execution_count": 134,
      "outputs": [
        {
          "output_type": "execute_result",
          "data": {
            "text/html": [
              "<div>\n",
              "<style scoped>\n",
              "    .dataframe tbody tr th:only-of-type {\n",
              "        vertical-align: middle;\n",
              "    }\n",
              "\n",
              "    .dataframe tbody tr th {\n",
              "        vertical-align: top;\n",
              "    }\n",
              "\n",
              "    .dataframe thead th {\n",
              "        text-align: right;\n",
              "    }\n",
              "</style>\n",
              "<table border=\"1\" class=\"dataframe\">\n",
              "  <thead>\n",
              "    <tr style=\"text-align: right;\">\n",
              "      <th></th>\n",
              "      <th>total_sqft</th>\n",
              "      <th>bath</th>\n",
              "      <th>price</th>\n",
              "      <th>bhk</th>\n",
              "      <th>Bella Vista</th>\n",
              "      <th>Calidonia</th>\n",
              "      <th>Costa del Este</th>\n",
              "      <th>Costa del Este,Juan Díaz</th>\n",
              "      <th>Punta Pacifica, San francisco</th>\n",
              "      <th>San Francisco</th>\n",
              "    </tr>\n",
              "  </thead>\n",
              "  <tbody>\n",
              "    <tr>\n",
              "      <th>0</th>\n",
              "      <td>1905.0</td>\n",
              "      <td>2</td>\n",
              "      <td>390000</td>\n",
              "      <td>2</td>\n",
              "      <td>1</td>\n",
              "      <td>0</td>\n",
              "      <td>0</td>\n",
              "      <td>0</td>\n",
              "      <td>0</td>\n",
              "      <td>0</td>\n",
              "    </tr>\n",
              "    <tr>\n",
              "      <th>2</th>\n",
              "      <td>3735.0</td>\n",
              "      <td>3</td>\n",
              "      <td>950000</td>\n",
              "      <td>4</td>\n",
              "      <td>1</td>\n",
              "      <td>0</td>\n",
              "      <td>0</td>\n",
              "      <td>0</td>\n",
              "      <td>0</td>\n",
              "      <td>0</td>\n",
              "    </tr>\n",
              "  </tbody>\n",
              "</table>\n",
              "</div>"
            ],
            "text/plain": [
              "   total_sqft  bath  ...  Punta Pacifica, San francisco  San Francisco\n",
              "0      1905.0     2  ...                              0              0\n",
              "2      3735.0     3  ...                              0              0\n",
              "\n",
              "[2 rows x 10 columns]"
            ]
          },
          "metadata": {
            "tags": []
          },
          "execution_count": 134
        }
      ]
    },
    {
      "cell_type": "markdown",
      "metadata": {
        "id": "ZTv4rm2t1c27"
      },
      "source": [
        "**Build a Model Now**"
      ]
    },
    {
      "cell_type": "code",
      "metadata": {
        "colab": {
          "base_uri": "https://localhost:8080/"
        },
        "id": "AjN4LsO-1Hfw",
        "outputId": "4ef7f76d-2b53-494e-e749-b9bd81697fab"
      },
      "source": [
        "data12.shape"
      ],
      "execution_count": 135,
      "outputs": [
        {
          "output_type": "execute_result",
          "data": {
            "text/plain": [
              "(127, 10)"
            ]
          },
          "metadata": {
            "tags": []
          },
          "execution_count": 135
        }
      ]
    },
    {
      "cell_type": "code",
      "metadata": {
        "colab": {
          "base_uri": "https://localhost:8080/",
          "height": 143
        },
        "id": "EXq3EsIV1Hiz",
        "outputId": "ae2d0f76-fda7-4cab-bb88-118f2e0ff58e"
      },
      "source": [
        "X = data12.drop(['price'],axis='columns')\r\n",
        "X.head(3)"
      ],
      "execution_count": 136,
      "outputs": [
        {
          "output_type": "execute_result",
          "data": {
            "text/html": [
              "<div>\n",
              "<style scoped>\n",
              "    .dataframe tbody tr th:only-of-type {\n",
              "        vertical-align: middle;\n",
              "    }\n",
              "\n",
              "    .dataframe tbody tr th {\n",
              "        vertical-align: top;\n",
              "    }\n",
              "\n",
              "    .dataframe thead th {\n",
              "        text-align: right;\n",
              "    }\n",
              "</style>\n",
              "<table border=\"1\" class=\"dataframe\">\n",
              "  <thead>\n",
              "    <tr style=\"text-align: right;\">\n",
              "      <th></th>\n",
              "      <th>total_sqft</th>\n",
              "      <th>bath</th>\n",
              "      <th>bhk</th>\n",
              "      <th>Bella Vista</th>\n",
              "      <th>Calidonia</th>\n",
              "      <th>Costa del Este</th>\n",
              "      <th>Costa del Este,Juan Díaz</th>\n",
              "      <th>Punta Pacifica, San francisco</th>\n",
              "      <th>San Francisco</th>\n",
              "    </tr>\n",
              "  </thead>\n",
              "  <tbody>\n",
              "    <tr>\n",
              "      <th>0</th>\n",
              "      <td>1905.0</td>\n",
              "      <td>2</td>\n",
              "      <td>2</td>\n",
              "      <td>1</td>\n",
              "      <td>0</td>\n",
              "      <td>0</td>\n",
              "      <td>0</td>\n",
              "      <td>0</td>\n",
              "      <td>0</td>\n",
              "    </tr>\n",
              "    <tr>\n",
              "      <th>2</th>\n",
              "      <td>3735.0</td>\n",
              "      <td>3</td>\n",
              "      <td>4</td>\n",
              "      <td>1</td>\n",
              "      <td>0</td>\n",
              "      <td>0</td>\n",
              "      <td>0</td>\n",
              "      <td>0</td>\n",
              "      <td>0</td>\n",
              "    </tr>\n",
              "    <tr>\n",
              "      <th>3</th>\n",
              "      <td>4036.0</td>\n",
              "      <td>3</td>\n",
              "      <td>2</td>\n",
              "      <td>1</td>\n",
              "      <td>0</td>\n",
              "      <td>0</td>\n",
              "      <td>0</td>\n",
              "      <td>0</td>\n",
              "      <td>0</td>\n",
              "    </tr>\n",
              "  </tbody>\n",
              "</table>\n",
              "</div>"
            ],
            "text/plain": [
              "   total_sqft  bath  ...  Punta Pacifica, San francisco  San Francisco\n",
              "0      1905.0     2  ...                              0              0\n",
              "2      3735.0     3  ...                              0              0\n",
              "3      4036.0     3  ...                              0              0\n",
              "\n",
              "[3 rows x 9 columns]"
            ]
          },
          "metadata": {
            "tags": []
          },
          "execution_count": 136
        }
      ]
    },
    {
      "cell_type": "code",
      "metadata": {
        "colab": {
          "base_uri": "https://localhost:8080/"
        },
        "id": "Ni6p_N2q1Hlg",
        "outputId": "bc20270f-6964-4431-c971-9ea80db00986"
      },
      "source": [
        "X.shape"
      ],
      "execution_count": 137,
      "outputs": [
        {
          "output_type": "execute_result",
          "data": {
            "text/plain": [
              "(127, 9)"
            ]
          },
          "metadata": {
            "tags": []
          },
          "execution_count": 137
        }
      ]
    },
    {
      "cell_type": "code",
      "metadata": {
        "colab": {
          "base_uri": "https://localhost:8080/"
        },
        "id": "oZhtoH3k1mTz",
        "outputId": "d0279bf2-ac55-4b9b-bc38-3c567cfcbb2f"
      },
      "source": [
        "y = data12.price\r\n",
        "y.head(3)"
      ],
      "execution_count": 138,
      "outputs": [
        {
          "output_type": "execute_result",
          "data": {
            "text/plain": [
              "0    390000\n",
              "2    950000\n",
              "3    800000\n",
              "Name: price, dtype: int64"
            ]
          },
          "metadata": {
            "tags": []
          },
          "execution_count": 138
        }
      ]
    },
    {
      "cell_type": "code",
      "metadata": {
        "colab": {
          "base_uri": "https://localhost:8080/"
        },
        "id": "Oyb3K-oy1p-h",
        "outputId": "4ba7791b-fd81-4324-9af1-67820f6671e5"
      },
      "source": [
        "len(y)"
      ],
      "execution_count": 139,
      "outputs": [
        {
          "output_type": "execute_result",
          "data": {
            "text/plain": [
              "127"
            ]
          },
          "metadata": {
            "tags": []
          },
          "execution_count": 139
        }
      ]
    },
    {
      "cell_type": "code",
      "metadata": {
        "id": "oSpbHQBv1tjG"
      },
      "source": [
        "from sklearn.model_selection import train_test_split\r\n",
        "X_train, X_test, y_train, y_test = train_test_split(X,y,test_size=0.2,random_state=10)"
      ],
      "execution_count": 140,
      "outputs": []
    },
    {
      "cell_type": "code",
      "metadata": {
        "colab": {
          "base_uri": "https://localhost:8080/"
        },
        "id": "YUrNQvQG1vPO",
        "outputId": "df07f8e1-bcc5-4dd3-817a-dc53fc8be562"
      },
      "source": [
        "from sklearn.linear_model import LinearRegression\r\n",
        "lr_clf = LinearRegression()\r\n",
        "lr_clf.fit(X_train,y_train)\r\n",
        "lr_clf.score(X_test,y_test)"
      ],
      "execution_count": 141,
      "outputs": [
        {
          "output_type": "execute_result",
          "data": {
            "text/plain": [
              "0.9151244107391909"
            ]
          },
          "metadata": {
            "tags": []
          },
          "execution_count": 141
        }
      ]
    },
    {
      "cell_type": "markdown",
      "metadata": {
        "id": "XjJL4fjU11_Q"
      },
      "source": [
        "Use K Fold cross validation to measure accuracy of our LinearRegression model"
      ]
    },
    {
      "cell_type": "code",
      "metadata": {
        "colab": {
          "base_uri": "https://localhost:8080/"
        },
        "id": "LbOOcs-J13H_",
        "outputId": "e010e458-07d8-41ba-c61c-0b3288e03061"
      },
      "source": [
        "from sklearn.model_selection import ShuffleSplit\r\n",
        "from sklearn.model_selection import cross_val_score\r\n",
        "\r\n",
        "cv = ShuffleSplit(n_splits=5, test_size=0.2, random_state=0)\r\n",
        "\r\n",
        "cross_val_score(LinearRegression(), X, y, cv=cv)"
      ],
      "execution_count": 142,
      "outputs": [
        {
          "output_type": "execute_result",
          "data": {
            "text/plain": [
              "array([0.92356152, 0.94872453, 0.91578297, 0.95572446, 0.94622797])"
            ]
          },
          "metadata": {
            "tags": []
          },
          "execution_count": 142
        }
      ]
    },
    {
      "cell_type": "markdown",
      "metadata": {
        "id": "dyepor-I166m"
      },
      "source": [
        "Find best model using GridSearchCV"
      ]
    },
    {
      "cell_type": "code",
      "metadata": {
        "colab": {
          "base_uri": "https://localhost:8080/",
          "height": 143
        },
        "id": "iyylFyGg16tk",
        "outputId": "58b40415-4636-42c4-c2cf-6dac099c06b0"
      },
      "source": [
        "from sklearn.model_selection import GridSearchCV\r\n",
        "\r\n",
        "from sklearn.linear_model import Lasso\r\n",
        "from sklearn.tree import DecisionTreeRegressor\r\n",
        "\r\n",
        "def find_best_model_using_gridsearchcv(X,y):\r\n",
        "    algos = {\r\n",
        "        'linear_regression' : {\r\n",
        "            'model': LinearRegression(),\r\n",
        "            'params': {\r\n",
        "                'normalize': [True, False]\r\n",
        "            }\r\n",
        "        },\r\n",
        "        'lasso': {\r\n",
        "            'model': Lasso(),\r\n",
        "            'params': {\r\n",
        "                'alpha': [1,2],\r\n",
        "                'selection': ['random', 'cyclic']\r\n",
        "            }\r\n",
        "        },\r\n",
        "        'decision_tree': {\r\n",
        "            'model': DecisionTreeRegressor(),\r\n",
        "            'params': {\r\n",
        "                'criterion' : ['mse','friedman_mse'],\r\n",
        "                'splitter': ['best','random']\r\n",
        "            }\r\n",
        "        }\r\n",
        "    }\r\n",
        "    scores = []\r\n",
        "    cv = ShuffleSplit(n_splits=5, test_size=0.2, random_state=0)\r\n",
        "    for algo_name, config in algos.items():\r\n",
        "        gs =  GridSearchCV(config['model'], config['params'], cv=cv, return_train_score=False)\r\n",
        "        gs.fit(X,y)\r\n",
        "        scores.append({\r\n",
        "            'model': algo_name,\r\n",
        "            'best_score': gs.best_score_,\r\n",
        "            'best_params': gs.best_params_\r\n",
        "        })\r\n",
        "\r\n",
        "    return pd.DataFrame(scores,columns=['model','best_score','best_params'])\r\n",
        "\r\n",
        "find_best_model_using_gridsearchcv(X,y)"
      ],
      "execution_count": 143,
      "outputs": [
        {
          "output_type": "execute_result",
          "data": {
            "text/html": [
              "<div>\n",
              "<style scoped>\n",
              "    .dataframe tbody tr th:only-of-type {\n",
              "        vertical-align: middle;\n",
              "    }\n",
              "\n",
              "    .dataframe tbody tr th {\n",
              "        vertical-align: top;\n",
              "    }\n",
              "\n",
              "    .dataframe thead th {\n",
              "        text-align: right;\n",
              "    }\n",
              "</style>\n",
              "<table border=\"1\" class=\"dataframe\">\n",
              "  <thead>\n",
              "    <tr style=\"text-align: right;\">\n",
              "      <th></th>\n",
              "      <th>model</th>\n",
              "      <th>best_score</th>\n",
              "      <th>best_params</th>\n",
              "    </tr>\n",
              "  </thead>\n",
              "  <tbody>\n",
              "    <tr>\n",
              "      <th>0</th>\n",
              "      <td>linear_regression</td>\n",
              "      <td>0.938004</td>\n",
              "      <td>{'normalize': True}</td>\n",
              "    </tr>\n",
              "    <tr>\n",
              "      <th>1</th>\n",
              "      <td>lasso</td>\n",
              "      <td>0.938012</td>\n",
              "      <td>{'alpha': 2, 'selection': 'random'}</td>\n",
              "    </tr>\n",
              "    <tr>\n",
              "      <th>2</th>\n",
              "      <td>decision_tree</td>\n",
              "      <td>0.848601</td>\n",
              "      <td>{'criterion': 'mse', 'splitter': 'best'}</td>\n",
              "    </tr>\n",
              "  </tbody>\n",
              "</table>\n",
              "</div>"
            ],
            "text/plain": [
              "               model  best_score                               best_params\n",
              "0  linear_regression    0.938004                       {'normalize': True}\n",
              "1              lasso    0.938012       {'alpha': 2, 'selection': 'random'}\n",
              "2      decision_tree    0.848601  {'criterion': 'mse', 'splitter': 'best'}"
            ]
          },
          "metadata": {
            "tags": []
          },
          "execution_count": 143
        }
      ]
    },
    {
      "cell_type": "markdown",
      "metadata": {
        "id": "7rA1QIN32DJT"
      },
      "source": [
        "Test the model for few properties"
      ]
    },
    {
      "cell_type": "code",
      "metadata": {
        "id": "zXQ5NmAJ2Cql"
      },
      "source": [
        "def predict_price(location,sqft,bath,bhk):    \r\n",
        "    loc_index = np.where(X.columns==location)[0][0]\r\n",
        "\r\n",
        "    x = np.zeros(len(X.columns))\r\n",
        "    x[0] = sqft\r\n",
        "    x[1] = bath\r\n",
        "    x[2] = bhk\r\n",
        "    if loc_index >= 0:\r\n",
        "        x[loc_index] = 1\r\n",
        "\r\n",
        "    return lr_clf.predict([x])[0]"
      ],
      "execution_count": 144,
      "outputs": []
    },
    {
      "cell_type": "code",
      "metadata": {
        "colab": {
          "base_uri": "https://localhost:8080/"
        },
        "id": "jFpZkK1-2JHr",
        "outputId": "cc8de488-cc07-4ab6-a773-59bd0e54dfbd"
      },
      "source": [
        "predict_price('Bella Vista',1000, 1, 2)"
      ],
      "execution_count": 146,
      "outputs": [
        {
          "output_type": "execute_result",
          "data": {
            "text/plain": [
              "160940.02181573026"
            ]
          },
          "metadata": {
            "tags": []
          },
          "execution_count": 146
        }
      ]
    },
    {
      "cell_type": "code",
      "metadata": {
        "colab": {
          "base_uri": "https://localhost:8080/"
        },
        "id": "vPeLTGrV2RU2",
        "outputId": "905f06c0-23cf-4bbf-e3b8-8adab091258a"
      },
      "source": [
        "predict_price('Calidonia',700, 1, 1)"
      ],
      "execution_count": 155,
      "outputs": [
        {
          "output_type": "execute_result",
          "data": {
            "text/plain": [
              "22232.045854563214"
            ]
          },
          "metadata": {
            "tags": []
          },
          "execution_count": 155
        }
      ]
    },
    {
      "cell_type": "code",
      "metadata": {
        "colab": {
          "base_uri": "https://localhost:8080/"
        },
        "id": "xZrkc1_C2WEn",
        "outputId": "7cf48b48-528d-4661-e67b-893a3ece44c7"
      },
      "source": [
        "predict_price('San Francisco',1000, 2, 2)"
      ],
      "execution_count": 148,
      "outputs": [
        {
          "output_type": "execute_result",
          "data": {
            "text/plain": [
              "75492.72128550318"
            ]
          },
          "metadata": {
            "tags": []
          },
          "execution_count": 148
        }
      ]
    }
  ]
}